{
 "cells": [
  {
   "cell_type": "markdown",
   "metadata": {},
   "source": [
    "使用package"
   ]
  },
  {
   "cell_type": "code",
   "execution_count": 1,
   "metadata": {
    "collapsed": false,
    "scrolled": true
   },
   "outputs": [
    {
     "data": {
      "text/html": [
       "'F:/git/R/course1'"
      ],
      "text/latex": [
       "'F:/git/R/course1'"
      ],
      "text/markdown": [
       "'F:/git/R/course1'"
      ],
      "text/plain": [
       "[1] \"F:/git/R/course1\""
      ]
     },
     "metadata": {},
     "output_type": "display_data"
    },
    {
     "name": "stderr",
     "output_type": "stream",
     "text": [
      "Loading required package: readxl\n",
      "Loading required package: TSA\n",
      "Loading required package: leaps\n",
      "Loading required package: locfit\n",
      "locfit 1.5-9.1 \t 2013-03-22\n",
      "Loading required package: mgcv\n",
      "Loading required package: nlme\n",
      "This is mgcv 1.8-17. For overview type 'help(\"mgcv-package\")'.\n",
      "Loading required package: tseries\n",
      "\n",
      "Attaching package: 'TSA'\n",
      "\n",
      "The following objects are masked from 'package:stats':\n",
      "\n",
      "    acf, arima\n",
      "\n",
      "The following object is masked from 'package:utils':\n",
      "\n",
      "    tar\n",
      "\n",
      "Loading required package: forecast\n",
      "\n",
      "Attaching package: 'forecast'\n",
      "\n",
      "The following objects are masked from 'package:TSA':\n",
      "\n",
      "    fitted.Arima, plot.Arima\n",
      "\n",
      "The following object is masked from 'package:nlme':\n",
      "\n",
      "    getResponse\n",
      "\n"
     ]
    },
    {
     "data": {
      "text/html": [
       "<ol>\n",
       "\t<li>TRUE</li>\n",
       "\t<li>TRUE</li>\n",
       "\t<li>TRUE</li>\n",
       "</ol>\n"
      ],
      "text/latex": [
       "\\begin{enumerate}\n",
       "\\item TRUE\n",
       "\\item TRUE\n",
       "\\item TRUE\n",
       "\\end{enumerate}\n"
      ],
      "text/markdown": [
       "1. TRUE\n",
       "2. TRUE\n",
       "3. TRUE\n",
       "\n",
       "\n"
      ],
      "text/plain": [
       "[[1]]\n",
       "[1] TRUE\n",
       "\n",
       "[[2]]\n",
       "[1] TRUE\n",
       "\n",
       "[[3]]\n",
       "[1] TRUE\n"
      ]
     },
     "metadata": {},
     "output_type": "display_data"
    }
   ],
   "source": [
    "getwd()\n",
    "x=c(\"readxl\",\"TSA\",\"forecast\")\n",
    "lapply(x, require, character.only = T)\n",
    "\n",
    "rm(list=ls())"
   ]
  },
  {
   "cell_type": "markdown",
   "metadata": {},
   "source": [
    "加载数据"
   ]
  },
  {
   "cell_type": "code",
   "execution_count": 2,
   "metadata": {
    "collapsed": false
   },
   "outputs": [],
   "source": [
    "data <- read_excel(\"F:\\\\git\\\\R\\\\0510\\\\bloomberg.xlsx\", sheet = \"total\", col_types = c(\"skip\", \"numeric\", \"numeric\"))\n",
    "ast = data[1] # ast represents asset\n",
    "num = data[2] # num represents number\n",
    "ast = ts(ast, frequency = 12,start = 1995) # total net assets\n",
    "num = ts(num, frequency = 12, start = 1995) # number of FOF funds"
   ]
  },
  {
   "cell_type": "markdown",
   "metadata": {},
   "source": [
    "以2003-1-1为分界点切开"
   ]
  },
  {
   "cell_type": "code",
   "execution_count": 3,
   "metadata": {
    "collapsed": true
   },
   "outputs": [],
   "source": [
    "ast1 = ts(ast[1:(8*12)],frequency = 12, start=1995)\n",
    "ast2 = ts(ast[97:269],frequency = 12, start = 2003)\n",
    "num1 = ts(num[1:96], frequency = 12, start=1995)\n",
    "num2 = ts(num[97:269],frequency = 12, start = 2003)"
   ]
  },
  {
   "cell_type": "code",
   "execution_count": null,
   "metadata": {
    "collapsed": false
   },
   "outputs": [],
   "source": []
  },
  {
   "cell_type": "code",
   "execution_count": 4,
   "metadata": {
    "collapsed": false
   },
   "outputs": [
    {
     "data": {
      "text/html": [
       "<ol class=list-inline>\n",
       "\t<li>269</li>\n",
       "\t<li>1</li>\n",
       "</ol>\n"
      ],
      "text/latex": [
       "\\begin{enumerate*}\n",
       "\\item 269\n",
       "\\item 1\n",
       "\\end{enumerate*}\n"
      ],
      "text/markdown": [
       "1. 269\n",
       "2. 1\n",
       "\n",
       "\n"
      ],
      "text/plain": [
       "[1] 269   1"
      ]
     },
     "metadata": {},
     "output_type": "display_data"
    },
    {
     "data": {
      "text/html": [
       "<ol class=list-inline>\n",
       "\t<li>269</li>\n",
       "\t<li>1</li>\n",
       "</ol>\n"
      ],
      "text/latex": [
       "\\begin{enumerate*}\n",
       "\\item 269\n",
       "\\item 1\n",
       "\\end{enumerate*}\n"
      ],
      "text/markdown": [
       "1. 269\n",
       "2. 1\n",
       "\n",
       "\n"
      ],
      "text/plain": [
       "[1] 269   1"
      ]
     },
     "metadata": {},
     "output_type": "display_data"
    },
    {
     "data": {
      "text/html": [
       "173"
      ],
      "text/latex": [
       "173"
      ],
      "text/markdown": [
       "173"
      ],
      "text/plain": [
       "[1] 173"
      ]
     },
     "metadata": {},
     "output_type": "display_data"
    },
    {
     "data": {
      "text/html": [
       "96"
      ],
      "text/latex": [
       "96"
      ],
      "text/markdown": [
       "96"
      ],
      "text/plain": [
       "[1] 96"
      ]
     },
     "metadata": {},
     "output_type": "display_data"
    }
   ],
   "source": [
    "dim(ast)\n",
    "dim(num)\n",
    "269-8*12\n",
    "8*12"
   ]
  }
 ],
 "metadata": {
  "kernelspec": {
   "display_name": "R 3.4",
   "language": "R",
   "name": "ir3r"
  },
  "language_info": {
   "codemirror_mode": "r",
   "file_extension": ".r",
   "mimetype": "text/x-r-source",
   "name": "R",
   "pygments_lexer": "r",
   "version": "3.4.0"
  }
 },
 "nbformat": 4,
 "nbformat_minor": 2
}
