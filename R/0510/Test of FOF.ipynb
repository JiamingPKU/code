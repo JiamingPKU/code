{
 "cells": [
  {
   "cell_type": "markdown",
   "metadata": {},
   "source": [
    "# fof_number.R.dump"
   ]
  },
  {
   "cell_type": "code",
   "execution_count": 2,
   "metadata": {
    "collapsed": false
   },
   "outputs": [
    {
     "data": {
      "text/html": [
       "'F:/git/R/0510'"
      ],
      "text/latex": [
       "'F:/git/R/0510'"
      ],
      "text/markdown": [
       "'F:/git/R/0510'"
      ],
      "text/plain": [
       "[1] \"F:/git/R/0510\""
      ]
     },
     "metadata": {},
     "output_type": "display_data"
    },
    {
     "data": {
      "text/html": [
       "<ol>\n",
       "\t<li>TRUE</li>\n",
       "\t<li>TRUE</li>\n",
       "\t<li>TRUE</li>\n",
       "\t<li>TRUE</li>\n",
       "\t<li>TRUE</li>\n",
       "\t<li>TRUE</li>\n",
       "</ol>\n"
      ],
      "text/latex": [
       "\\begin{enumerate}\n",
       "\\item TRUE\n",
       "\\item TRUE\n",
       "\\item TRUE\n",
       "\\item TRUE\n",
       "\\item TRUE\n",
       "\\item TRUE\n",
       "\\end{enumerate}\n"
      ],
      "text/markdown": [
       "1. TRUE\n",
       "2. TRUE\n",
       "3. TRUE\n",
       "4. TRUE\n",
       "5. TRUE\n",
       "6. TRUE\n",
       "\n",
       "\n"
      ],
      "text/plain": [
       "[[1]]\n",
       "[1] TRUE\n",
       "\n",
       "[[2]]\n",
       "[1] TRUE\n",
       "\n",
       "[[3]]\n",
       "[1] TRUE\n",
       "\n",
       "[[4]]\n",
       "[1] TRUE\n",
       "\n",
       "[[5]]\n",
       "[1] TRUE\n",
       "\n",
       "[[6]]\n",
       "[1] TRUE\n"
      ]
     },
     "metadata": {},
     "output_type": "display_data"
    }
   ],
   "source": [
    "getwd()\n",
    "x=c(\"readxl\",\"TSA\",\"forecast\", \"FinTS\",\"e1071\",\"fGarch\")\n",
    "lapply(x, require, character.only = T)\n",
    "rm(list=ls())\n",
    "\n",
    "data = read_excel(\"API.xlsx\")"
   ]
  },
  {
   "cell_type": "code",
   "execution_count": 3,
   "metadata": {
    "collapsed": false
   },
   "outputs": [
    {
     "data": {
      "text/plain": [
       "\n",
       "\tAugmented Dickey-Fuller Test\n",
       "\n",
       "data:  num\n",
       "Dickey-Fuller = -1.4307, Lag order = 6, p-value = 0.8158\n",
       "alternative hypothesis: stationary\n"
      ]
     },
     "metadata": {},
     "output_type": "display_data"
    },
    {
     "name": "stderr",
     "output_type": "stream",
     "text": [
      "Warning message in adf.test(GR_num):\n",
      "\"p-value smaller than printed p-value\""
     ]
    },
    {
     "data": {
      "text/plain": [
       "\n",
       "\tAugmented Dickey-Fuller Test\n",
       "\n",
       "data:  GR_num\n",
       "Dickey-Fuller = -4.9254, Lag order = 6, p-value = 0.01\n",
       "alternative hypothesis: stationary\n"
      ]
     },
     "metadata": {},
     "output_type": "display_data"
    },
    {
     "name": "stdout",
     "output_type": "stream",
     "text": [
      "Series: GR_num \n",
      "ARIMA(0,0,0) with non-zero mean \n",
      "\n",
      "Coefficients:\n",
      "        mean\n",
      "      2.2295\n",
      "s.e.  0.3628\n",
      "\n",
      "sigma^2 estimated as 35.41:  log likelihood=-857.74\n",
      "AIC=1719.49   AICc=1719.53   BIC=1726.67\n"
     ]
    },
    {
     "data": {
      "image/png": "[encoded data removed]",
      "text/plain": [
       "plot without title"
      ]
     },
     "metadata": {},
     "output_type": "display_data"
    }
   ],
   "source": [
    "num = data[2] # num represents asset\n",
    "num = ts(num, frequency = 12,start = c(1995,1)) # number of FOF\n",
    "\n",
    "GR_num = diff(log(num)) # growth ratio of total net asset\n",
    "GR_num = ts(GR_num * 100, frequency = 12,start = c(1995,2), names = 'GR_num')\n",
    "\n",
    "par(mfrow = c(2,1))\n",
    "plot(num)\n",
    "plot(GR_num)\n",
    "\n",
    "adf.test(num)\n",
    "adf.test(GR_num)\n",
    "\n",
    "m = auto.arima(GR_num, max.d = 0) #ARIMA(2,0,2)(1,0,2)[12]\n",
    "print(m)"
   ]
  }
 ],
 "metadata": {
  "kernelspec": {
   "display_name": "R",
   "language": "R",
   "name": "ir"
  },
  "language_info": {
   "codemirror_mode": "r",
   "file_extension": ".r",
   "mimetype": "text/x-r-source",
   "name": "R",
   "pygments_lexer": "r",
   "version": "3.4.0"
  }
 },
 "nbformat": 4,
 "nbformat_minor": 2
}
