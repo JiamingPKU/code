{
 "cells": [
  {
   "cell_type": "markdown",
   "metadata": {},
   "source": [
    "三种方式比较。\n",
    "第一种$\\frac{1}{2}$和$\\frac{1}{2}$\n",
    "第二种$\\frac{1}{3}$和$\\frac{2}{3}$\n",
    "第三种$\\frac{1}{4}$和$\\frac{3}{4}$"
   ]
  },
  {
   "cell_type": "code",
   "execution_count": null,
   "metadata": {
    "collapsed": true
   },
   "outputs": [],
   "source": []
  },
  {
   "cell_type": "markdown",
   "metadata": {},
   "source": [
    "第一种 正向 $\\frac{1}{4}+\\frac{1}{4} = \\frac{1}{2}$; 反向$\\frac{1}{4}+\\frac{1}{4} = \\frac{1}{2}$。"
   ]
  },
  {
   "cell_type": "markdown",
   "metadata": {},
   "source": [
    "第二种 正向 $\\frac{1}{9}+\\frac{1}{9} = \\frac{2}{9}$; 反向$\\frac{1}{9}+\\frac{4}{9} = \\frac{5}{9}$。"
   ]
  },
  {
   "cell_type": "markdown",
   "metadata": {},
   "source": [
    "第三种 正向 $\\frac{1}{16}+\\frac{1}{16} = \\frac{1}{8}$; 反向$\\frac{1}{16}+\\frac{9}{16} = \\frac{5}{8}$。"
   ]
  },
  {
   "cell_type": "code",
   "execution_count": 7,
   "metadata": {
    "collapsed": false
   },
   "outputs": [
    {
     "data": {
      "text/plain": [
       "8.0"
      ]
     },
     "execution_count": 7,
     "metadata": {},
     "output_type": "execute_result"
    }
   ],
   "source": [
    "import sys\n",
    "sys.maxsize\n",
    "sys.maxsize/(1024**6)"
   ]
  },
  {
   "cell_type": "markdown",
   "metadata": {
    "collapsed": true
   },
   "source": [
    "近 $\\frac{1}{2}^2 *2$\n",
    "远 $\\frac{1}{2}^2 *2$"
   ]
  }
 ],
 "metadata": {
  "kernelspec": {
   "display_name": "Python 3",
   "language": "python",
   "name": "python3"
  },
  "language_info": {
   "codemirror_mode": {
    "name": "ipython",
    "version": 3
   },
   "file_extension": ".py",
   "mimetype": "text/x-python",
   "name": "python",
   "nbconvert_exporter": "python",
   "pygments_lexer": "ipython3",
   "version": "3.6.0"
  }
 },
 "nbformat": 4,
 "nbformat_minor": 2
}
