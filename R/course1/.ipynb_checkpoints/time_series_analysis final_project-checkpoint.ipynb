{
 "cells": [
  {
   "cell_type": "markdown",
   "metadata": {},
   "source": [
    "使用package"
   ]
  },
  {
   "cell_type": "code",
   "execution_count": 2,
   "metadata": {
    "collapsed": true
   },
   "outputs": [
    {
     "data": {
      "text/html": [
       "'F:/git/R/course1'"
      ],
      "text/latex": [
       "'F:/git/R/course1'"
      ],
      "text/markdown": [
       "'F:/git/R/course1'"
      ],
      "text/plain": [
       "[1] \"F:/git/R/course1\""
      ]
     },
     "metadata": {},
     "output_type": "display_data"
    },
    {
     "data": {
      "text/html": [
       "<ol>\n",
       "\t<li>TRUE</li>\n",
       "\t<li>TRUE</li>\n",
       "\t<li>TRUE</li>\n",
       "</ol>\n"
      ],
      "text/latex": [
       "\\begin{enumerate}\n",
       "\\item TRUE\n",
       "\\item TRUE\n",
       "\\item TRUE\n",
       "\\end{enumerate}\n"
      ],
      "text/markdown": [
       "1. TRUE\n",
       "2. TRUE\n",
       "3. TRUE\n",
       "\n",
       "\n"
      ],
      "text/plain": [
       "[[1]]\n",
       "[1] TRUE\n",
       "\n",
       "[[2]]\n",
       "[1] TRUE\n",
       "\n",
       "[[3]]\n",
       "[1] TRUE\n"
      ]
     },
     "metadata": {},
     "output_type": "display_data"
    }
   ],
   "source": [
    "getwd()\n",
    "x=c(\"readxl\",\"TSA\",\"forecast\")\n",
    "lapply(x, require, character.only = T)\n",
    "\n",
    "rm(list=ls())"
   ]
  },
  {
   "cell_type": "markdown",
   "metadata": {},
   "source": [
    "加载数据"
   ]
  },
  {
   "cell_type": "code",
   "execution_count": 5,
   "metadata": {
    "collapsed": false
   },
   "outputs": [],
   "source": [
    "data <- read_excel(\"F:\\\\git\\\\R\\\\0510\\\\bloomberg.xlsx\", sheet = \"total\", col_types = c(\"skip\", \"numeric\", \"numeric\"))\n",
    "ast = data[1] # ast represents asset\n",
    "num = data[2] # num represents number\n",
    "ast = ts(ast, frequency = 12,start = 1995) # total net assets\n",
    "num = ts(num, frequency = 12, start = 1995) # number of FOF funds"
   ]
  },
  {
   "cell_type": "markdown",
   "metadata": {},
   "source": [
    "以2003-1-1为分界点切开"
   ]
  },
  {
   "cell_type": "code",
   "execution_count": 19,
   "metadata": {
    "collapsed": true
   },
   "outputs": [],
   "source": [
    "ast1 = ts(ast[1:(8*12)],frequency = 12, start=1995)\n",
    "ast2 = ts(ast[97:269],frequency = 12, start = 2003)\n",
    "num1 = ts(num[1:96], frequency = 12, start=1995)\n",
    "num2 = ts(num[97:269],frequency = 12, start = 2003)"
   ]
  },
  {
   "cell_type": "code",
   "execution_count": 22,
   "metadata": {
    "collapsed": false
   },
   "outputs": [
    {
     "data": {
      "text/plain": [
       "            Jan        Feb        Mar        Apr        May        Jun\n",
       "2003   75090.64   71979.21   74544.03   75032.41   77723.33   81166.19\n",
       "2004   97158.40  104011.11  108635.58  122895.62  133983.55  143331.71\n",
       "2005  174442.90  178663.61  180644.12  183032.82  188376.19  192123.44\n",
       "2006  265454.38  280590.70  289272.48  299346.94  312759.22  317089.00\n",
       "2007  395654.18  413001.92  421266.16  435453.75  456568.17  469966.94\n",
       "2008  534289.55  520191.05  514646.96  508470.37  523082.91  544725.97\n",
       "2009  425735.13  399602.82  414628.09  441387.68  454104.29  478017.71\n",
       "2010  603296.68  604997.72  613747.34  643478.26  657422.41  627196.83\n",
       "2011  751328.49  772202.43  791899.00  807483.61  834704.22  835778.39\n",
       "2012  796472.81  836033.37  867648.22  884599.71  893903.72  853352.89\n",
       "2013  979779.23 1022456.88 1167128.29 1073323.00 1097449.88 1107170.36\n",
       "2014 1210088.64 1187520.60 1234096.87 1238799.16 1247947.58 1271898.35\n",
       "2015 1313628.87 1321029.56 1373800.97 1372278.97 1397090.52 1418694.42\n",
       "2016 1399192.81 1346345.30 1344888.45 1402333.30 1424562.38 1425313.57\n",
       "2017 1460271.42 1473791.88 1512170.81 1531286.24 1531106.44           \n",
       "            Jul        Aug        Sep        Oct        Nov        Dec\n",
       "2003   82694.96   84115.64   84286.23   83845.05   90622.28   92661.04\n",
       "2004  148663.38  150728.16  156230.53  162639.36  167402.90  171383.94\n",
       "2005  199859.87  208480.39  215081.04  220273.78  234997.47  255266.06\n",
       "2006  323568.98  330218.35  345766.22  349620.43  365517.94  381525.97\n",
       "2007  477194.84  480902.06  493065.61  514898.91  533376.36  529529.30\n",
       "2008  529515.72  526861.80  512458.99  479500.51  418175.57  413135.16\n",
       "2009  489189.85  538315.04  556143.45  571690.68  569009.49  594713.21\n",
       "2010  618079.94  656942.36  649672.88  691727.30  717014.97  725812.87\n",
       "2011  830000.85  769909.22  794900.02  748423.04  795681.22  793597.63\n",
       "2012  880810.17  899012.82  923559.21  948199.53  950534.35  962415.61\n",
       "2013 1089874.24 1124873.00 1113023.58 1153404.90 1170515.85 1191252.26\n",
       "2014 1304877.84 1290804.96 1324078.57 1295844.43 1313867.10 1331161.52\n",
       "2015 1431861.66 1445206.70 1383349.54 1357479.17 1420458.98 1424948.06\n",
       "2016 1414559.58 1453163.33 1459183.73 1466733.52 1440816.65 1439637.04\n",
       "2017                                                                  "
      ]
     },
     "metadata": {},
     "output_type": "display_data"
    }
   ],
   "source": []
  },
  {
   "cell_type": "code",
   "execution_count": 18,
   "metadata": {
    "collapsed": false
   },
   "outputs": [
    {
     "data": {
      "text/html": [
       "<ol class=list-inline>\n",
       "\t<li>269</li>\n",
       "\t<li>1</li>\n",
       "</ol>\n"
      ],
      "text/latex": [
       "\\begin{enumerate*}\n",
       "\\item 269\n",
       "\\item 1\n",
       "\\end{enumerate*}\n"
      ],
      "text/markdown": [
       "1. 269\n",
       "2. 1\n",
       "\n",
       "\n"
      ],
      "text/plain": [
       "[1] 269   1"
      ]
     },
     "metadata": {},
     "output_type": "display_data"
    },
    {
     "data": {
      "text/html": [
       "<ol class=list-inline>\n",
       "\t<li>269</li>\n",
       "\t<li>1</li>\n",
       "</ol>\n"
      ],
      "text/latex": [
       "\\begin{enumerate*}\n",
       "\\item 269\n",
       "\\item 1\n",
       "\\end{enumerate*}\n"
      ],
      "text/markdown": [
       "1. 269\n",
       "2. 1\n",
       "\n",
       "\n"
      ],
      "text/plain": [
       "[1] 269   1"
      ]
     },
     "metadata": {},
     "output_type": "display_data"
    },
    {
     "data": {
      "text/html": [
       "173"
      ],
      "text/latex": [
       "173"
      ],
      "text/markdown": [
       "173"
      ],
      "text/plain": [
       "[1] 173"
      ]
     },
     "metadata": {},
     "output_type": "display_data"
    },
    {
     "data": {
      "text/html": [
       "96"
      ],
      "text/latex": [
       "96"
      ],
      "text/markdown": [
       "96"
      ],
      "text/plain": [
       "[1] 96"
      ]
     },
     "metadata": {},
     "output_type": "display_data"
    }
   ],
   "source": [
    "dim(ast)\n",
    "dim(num)\n",
    "269-8*12\n",
    "8*12"
   ]
  }
 ],
 "metadata": {
  "kernelspec": {
   "display_name": "R 3.4",
   "language": "R",
   "name": "ir3r"
  },
  "language_info": {
   "codemirror_mode": "r",
   "file_extension": ".r",
   "mimetype": "text/x-r-source",
   "name": "R",
   "pygments_lexer": "r",
   "version": "3.4.0"
  }
 },
 "nbformat": 4,
 "nbformat_minor": 2
}
