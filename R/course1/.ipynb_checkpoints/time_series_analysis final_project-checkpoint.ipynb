{
 "cells": [
  {
   "cell_type": "markdown",
   "metadata": {},
   "source": [
    "考虑使用：\n",
    "+ 以2003年为断点分析前后2个过程的模型（是否会变成一阶差分）\n",
    "+ 加上月份调整（12）"
   ]
  },
  {
   "cell_type": "markdown",
   "metadata": {},
   "source": [
    "使用package"
   ]
  },
  {
   "cell_type": "code",
   "execution_count": 17,
   "metadata": {
    "collapsed": false
   },
   "outputs": [
    {
     "data": {
      "text/html": [
       "'F:/git/R/course1'"
      ],
      "text/latex": [
       "'F:/git/R/course1'"
      ],
      "text/markdown": [
       "'F:/git/R/course1'"
      ],
      "text/plain": [
       "[1] \"F:/git/R/course1\""
      ]
     },
     "metadata": {},
     "output_type": "display_data"
    },
    {
     "data": {
      "text/html": [
       "<ol>\n",
       "\t<li>TRUE</li>\n",
       "\t<li>TRUE</li>\n",
       "\t<li>TRUE</li>\n",
       "</ol>\n"
      ],
      "text/latex": [
       "\\begin{enumerate}\n",
       "\\item TRUE\n",
       "\\item TRUE\n",
       "\\item TRUE\n",
       "\\end{enumerate}\n"
      ],
      "text/markdown": [
       "1. TRUE\n",
       "2. TRUE\n",
       "3. TRUE\n",
       "\n",
       "\n"
      ],
      "text/plain": [
       "[[1]]\n",
       "[1] TRUE\n",
       "\n",
       "[[2]]\n",
       "[1] TRUE\n",
       "\n",
       "[[3]]\n",
       "[1] TRUE\n"
      ]
     },
     "metadata": {},
     "output_type": "display_data"
    }
   ],
   "source": [
    "getwd()\n",
    "x=c(\"readxl\",\"TSA\",\"forecast\")\n",
    "lapply(x, require, character.only = T)\n",
    "\n",
    "rm(list=ls())"
   ]
  },
  {
   "cell_type": "markdown",
   "metadata": {},
   "source": [
    "加载数据"
   ]
  },
  {
   "cell_type": "code",
   "execution_count": 18,
   "metadata": {
    "collapsed": false
   },
   "outputs": [],
   "source": [
    "data <- read_excel(\"F:\\\\git\\\\R\\\\0510\\\\bloomberg.xlsx\", sheet = \"total\", col_types = c(\"skip\", \"numeric\", \"numeric\"))\n",
    "ast = data[1] # ast represents asset\n",
    "num = data[2] # num represents number\n",
    "ast = ts(ast, frequency = 12,start = 1995) # total net assets\n",
    "num = ts(num, frequency = 12, start = 1995) # number of FOF funds"
   ]
  },
  {
   "cell_type": "markdown",
   "metadata": {},
   "source": [
    "### 以2003-1-1为分界点切开"
   ]
  },
  {
   "cell_type": "code",
   "execution_count": 35,
   "metadata": {
    "collapsed": true
   },
   "outputs": [],
   "source": [
    "ast1 = ts(ast[1:(8*12)],frequency = 12, start=1995)\n",
    "ast2 = ts(ast[97:269],frequency = 12, start = 2003)\n",
    "num1 = ts(num[1:96], frequency = 12, start=1995)\n",
    "num2 = ts(num[97:269],frequency = 12, start = 2003)"
   ]
  },
  {
   "cell_type": "code",
   "execution_count": 36,
   "metadata": {
    "collapsed": false
   },
   "outputs": [],
   "source": [
    "#依次做ARIMA建模\n",
    "m_ast1 <- auto.arima(log(ast1))\n",
    "m_ast2 <- auto.arima(log(ast2))\n",
    "m_num1 <- auto.arima(log(num1))\n",
    "m_num2 <- auto.arima(log(num2))"
   ]
  },
  {
   "cell_type": "markdown",
   "metadata": {},
   "source": [
    "下面输出 ARIMA建模的结果，发现除了*m_ast*之外都是$I(2)$."
   ]
  },
  {
   "cell_type": "code",
   "execution_count": 21,
   "metadata": {
    "collapsed": false
   },
   "outputs": [
    {
     "name": "stdout",
     "output_type": "stream",
     "text": [
      "[1] \"m_ast1\"\n"
     ]
    },
    {
     "data": {
      "text/plain": [
       "Series: log(ast1) \n",
       "ARIMA(0,1,0) with drift         \n",
       "\n",
       "Coefficients:\n",
       "       drift\n",
       "      0.0313\n",
       "s.e.  0.0090\n",
       "\n",
       "sigma^2 estimated as 0.007855:  log likelihood=95.92\n",
       "AIC=-187.85   AICc=-187.72   BIC=-182.74"
      ]
     },
     "metadata": {},
     "output_type": "display_data"
    },
    {
     "name": "stdout",
     "output_type": "stream",
     "text": [
      "[1] \"m_ast2\"\n"
     ]
    },
    {
     "data": {
      "text/plain": [
       "Series: log(ast2) \n",
       "ARIMA(0,2,1)(1,0,0)[12]                    \n",
       "\n",
       "Coefficients:\n",
       "          ma1     sar1\n",
       "      -0.8697  -0.0305\n",
       "s.e.   0.0798   0.0787\n",
       "\n",
       "sigma^2 estimated as 0.001087:  log likelihood=341.22\n",
       "AIC=-676.43   AICc=-676.29   BIC=-667.01"
      ]
     },
     "metadata": {},
     "output_type": "display_data"
    },
    {
     "name": "stdout",
     "output_type": "stream",
     "text": [
      "[1] \"m_num1\"\n"
     ]
    },
    {
     "data": {
      "text/plain": [
       "Series: log(num1) \n",
       "ARIMA(1,2,1)                    \n",
       "\n",
       "Coefficients:\n",
       "          ar1      ma1\n",
       "      -0.2567  -0.9190\n",
       "s.e.   0.1042   0.0496\n",
       "\n",
       "sigma^2 estimated as 0.0163:  log likelihood=59.94\n",
       "AIC=-113.88   AICc=-113.61   BIC=-106.25"
      ]
     },
     "metadata": {},
     "output_type": "display_data"
    },
    {
     "name": "stdout",
     "output_type": "stream",
     "text": [
      "[1] \"m_num2\"\n"
     ]
    },
    {
     "data": {
      "text/plain": [
       "Series: log(num2) \n",
       "ARIMA(3,2,2)(2,0,0)[12]                    \n",
       "\n",
       "Coefficients:\n",
       "          ar1     ar2      ar3      ma1      ma2     sar1     sar2\n",
       "      -0.4879  0.3490  -0.1443  -0.0012  -0.8050  -0.0247  -0.0492\n",
       "s.e.   0.0982  0.1121   0.0893   0.0567   0.0566   0.1016   0.1268\n",
       "\n",
       "sigma^2 estimated as 0.0005009:  log likelihood=409.62\n",
       "AIC=-803.25   AICc=-802.36   BIC=-778.11"
      ]
     },
     "metadata": {},
     "output_type": "display_data"
    }
   ],
   "source": [
    "print(\"m_ast1\");m_ast1;\n",
    "print(\"m_ast2\");m_ast2;\n",
    "print(\"m_num1\");m_num1;\n",
    "print(\"m_num2\");m_num2;"
   ]
  },
  {
   "cell_type": "code",
   "execution_count": 37,
   "metadata": {
    "collapsed": false
   },
   "outputs": [],
   "source": [
    "# 差分模型\n",
    "m_ast1 <- auto.arima( diff(log(ast1), differences = 1))\n",
    "mm_ast2 <- auto.arima( diff(log(ast2),differences = 2) )\n",
    "mm_num1 <- auto.arima( diff(log(num1), differences = 2))\n",
    "mm_num2 <- auto.arima( diff(log(num2), differences = 2))"
   ]
  },
  {
   "cell_type": "code",
   "execution_count": 38,
   "metadata": {
    "collapsed": true
   },
   "outputs": [],
   "source": [
    "# 计算每个模型的残差\n",
    "r_m_ast1 <- m_ast1$residuals\n",
    "r_mm_ast2 <- mm_ast2$residuals\n",
    "r_mm_num1 <- mm_num1$residuals\n",
    "r_mm_num2 <- mm_num2$residuals"
   ]
  },
  {
   "cell_type": "code",
   "execution_count": 39,
   "metadata": {
    "collapsed": false
   },
   "outputs": [
    {
     "data": {
      "image/png": "[encoded data removed]",
      "text/plain": [
       "plot without title"
      ]
     },
     "metadata": {},
     "output_type": "display_data"
    }
   ],
   "source": [
    "# 绘制残差图\n",
    "par(mfrow=c(2,2))\n",
    "plot(r_m_ast1);plot(r_mm_ast2);plot(r_mm_num1);plot(r_mm_num2);"
   ]
  },
  {
   "cell_type": "code",
   "execution_count": 40,
   "metadata": {
    "collapsed": false
   },
   "outputs": [
    {
     "data": {
      "text/plain": [
       "\n",
       "\tBox-Ljung test\n",
       "\n",
       "data:  r_m_ast1\n",
       "X-squared = 14.026, df = 23, p-value = 0.9261\n"
      ]
     },
     "metadata": {},
     "output_type": "display_data"
    },
    {
     "data": {
      "text/plain": [
       "\n",
       "\tBox-Ljung test\n",
       "\n",
       "data:  r_mm_ast2\n",
       "X-squared = 23.051, df = 22, p-value = 0.3988\n"
      ]
     },
     "metadata": {},
     "output_type": "display_data"
    },
    {
     "data": {
      "text/plain": [
       "\n",
       "\tBox-Ljung test\n",
       "\n",
       "data:  r_mm_num1\n",
       "X-squared = 19.699, df = 22, p-value = 0.6019\n"
      ]
     },
     "metadata": {},
     "output_type": "display_data"
    },
    {
     "data": {
      "text/plain": [
       "\n",
       "\tBox-Ljung test\n",
       "\n",
       "data:  r_mm_num2\n",
       "X-squared = 44.883, df = 22, p-value = 0.002746\n"
      ]
     },
     "metadata": {},
     "output_type": "display_data"
    }
   ],
   "source": [
    "# 残差的白噪声检验\n",
    "t_ast1 <- Box.test(r_m_ast1, lag = 24, type = \"Ljung-Box\", fitdf = 1)\n",
    "t_ast2 <- Box.test(r_mm_ast2, lag = 24, type = \"Ljung-Box\", fitdf = 2)\n",
    "t_num1 <- Box.test(r_mm_num1, lag = 24, type = \"Ljung-Box\", fitdf = 2)\n",
    "t_num2 <- Box.test(r_mm_num2, lag = 24, type = \"Ljung-Box\", fitdf = 2)\n",
    "\n",
    "t_ast1; t_ast2; t_num1;t_num2"
   ]
  },
  {
   "cell_type": "markdown",
   "metadata": {},
   "source": [
    "**Conclusion**:以2003-1-1截点来看的效果，并不是很好。"
   ]
  },
  {
   "cell_type": "markdown",
   "metadata": {},
   "source": [
    "### 以2002年作为截点来看"
   ]
  },
  {
   "cell_type": "code",
   "execution_count": 41,
   "metadata": {
    "collapsed": false,
    "scrolled": false
   },
   "outputs": [
    {
     "name": "stdout",
     "output_type": "stream",
     "text": [
      "[1] \"m_ast1\"\n"
     ]
    },
    {
     "data": {
      "text/plain": [
       "Series: log(ast1) \n",
       "ARIMA(2,2,2)                    \n",
       "\n",
       "Coefficients:\n",
       "         ar1      ar2      ma1     ma2\n",
       "      0.6729  -0.2821  -1.7135  0.7581\n",
       "s.e.  0.1698   0.1349   0.1380  0.1267\n",
       "\n",
       "sigma^2 estimated as 0.001015:  log likelihood=166.72\n",
       "AIC=-323.44   AICc=-322.65   BIC=-311.41"
      ]
     },
     "metadata": {},
     "output_type": "display_data"
    },
    {
     "name": "stdout",
     "output_type": "stream",
     "text": [
      "[1] \"m_ast2\"\n"
     ]
    },
    {
     "data": {
      "text/plain": [
       "Series: log(ast2) \n",
       "ARIMA(1,2,1)(1,0,0)[12]                    \n",
       "\n",
       "Coefficients:\n",
       "          ar1      ma1     sar1\n",
       "      -0.1182  -0.9414  -0.0679\n",
       "s.e.   0.0769   0.0266   0.1362\n",
       "\n",
       "sigma^2 estimated as 0.00449:  log likelihood=235.26\n",
       "AIC=-462.52   AICc=-462.29   BIC=-449.68"
      ]
     },
     "metadata": {},
     "output_type": "display_data"
    },
    {
     "name": "stdout",
     "output_type": "stream",
     "text": [
      "[1] \"m_num1\"\n"
     ]
    },
    {
     "data": {
      "text/plain": [
       "Series: log(num1) \n",
       "ARIMA(1,1,0) with drift         \n",
       "\n",
       "Coefficients:\n",
       "          ar1   drift\n",
       "      -0.4320  0.0210\n",
       "s.e.   0.1098  0.0088\n",
       "\n",
       "sigma^2 estimated as 0.01356:  log likelihood=62.34\n",
       "AIC=-118.68   AICc=-118.38   BIC=-111.39"
      ]
     },
     "metadata": {},
     "output_type": "display_data"
    },
    {
     "name": "stdout",
     "output_type": "stream",
     "text": [
      "[1] \"m_num2\"\n"
     ]
    },
    {
     "data": {
      "text/plain": [
       "Series: log(num2) \n",
       "ARIMA(1,2,2)                    \n",
       "\n",
       "Coefficients:\n",
       "         ar1      ma1     ma2\n",
       "      0.6510  -1.1952  0.2281\n",
       "s.e.  0.1306   0.1536  0.1404\n",
       "\n",
       "sigma^2 estimated as 0.001476:  log likelihood=337.64\n",
       "AIC=-667.27   AICc=-667.05   BIC=-654.43"
      ]
     },
     "metadata": {},
     "output_type": "display_data"
    },
    {
     "data": {
      "image/png": "[encoded data removed]",
      "text/plain": [
       "plot without title"
      ]
     },
     "metadata": {},
     "output_type": "display_data"
    }
   ],
   "source": [
    "ast1 = ts(ast[1:(7*12)],frequency = 12, start=1995)\n",
    "ast2 = ts(ast[85:269],frequency = 12, start = 2002)\n",
    "num1 = ts(num[1:85], frequency = 12, start=1995)\n",
    "num2 = ts(num[85:269],frequency = 12, start = 2002)\n",
    "#依次做ARIMA建模\n",
    "m_ast1 <- auto.arima(log(ast1))\n",
    "m_ast2 <- auto.arima(log(ast2))\n",
    "m_num1 <- auto.arima(log(num1))\n",
    "m_num2 <- auto.arima(log(num2))\n",
    "\n",
    "print(\"m_ast1\");m_ast1; #arima(2,2,2)\n",
    "print(\"m_ast2\");m_ast2; #arima(1,2,1)\n",
    "print(\"m_num1\");m_num1; #arima(1,1,0)\n",
    "print(\"m_num2\");m_num2; #arima(1,2,2)\n",
    "\n",
    "par(mfrow=c(2,2))\n",
    "plot(log(ast1));plot(log(ast2));plot(log(num1));plot(log(num2));"
   ]
  },
  {
   "cell_type": "code",
   "execution_count": 43,
   "metadata": {
    "collapsed": true
   },
   "outputs": [],
   "source": [
    "# 差分模型 \n",
    "mm_ast1 <- auto.arima( diff(log(ast1), differences = 2))\n",
    "mm_ast2 <- auto.arima( diff(log(ast2),differences = 2) )\n",
    "m_num1 <- auto.arima( diff(log(num1), differences = 1))\n",
    "mm_num2 <- auto.arima( diff(log(num2), differences = 2))\n",
    "# 计算残差\n",
    "r_mm_ast1 <- mm_ast1$residuals\n",
    "r_mm_ast2 <- mm_ast2$residuals\n",
    "r_m_num1 <- m_num1$residuals\n",
    "r_mm_num2 <- mm_num2$residuals"
   ]
  },
  {
   "cell_type": "code",
   "execution_count": 44,
   "metadata": {
    "collapsed": true
   },
   "outputs": [
    {
     "data": {
      "text/plain": [
       "\n",
       "\tBox-Ljung test\n",
       "\n",
       "data:  r_mm_ast1\n",
       "X-squared = 10.432, df = 22, p-value = 0.9819\n"
      ]
     },
     "metadata": {},
     "output_type": "display_data"
    },
    {
     "data": {
      "text/plain": [
       "\n",
       "\tBox-Ljung test\n",
       "\n",
       "data:  r_mm_ast2\n",
       "X-squared = 21.335, df = 22, p-value = 0.5001\n"
      ]
     },
     "metadata": {},
     "output_type": "display_data"
    },
    {
     "data": {
      "text/plain": [
       "\n",
       "\tBox-Ljung test\n",
       "\n",
       "data:  r_m_num1\n",
       "X-squared = 16.022, df = 23, p-value = 0.8543\n"
      ]
     },
     "metadata": {},
     "output_type": "display_data"
    },
    {
     "data": {
      "text/plain": [
       "\n",
       "\tBox-Ljung test\n",
       "\n",
       "data:  r_mm_num2\n",
       "X-squared = 25.627, df = 22, p-value = 0.268\n"
      ]
     },
     "metadata": {},
     "output_type": "display_data"
    },
    {
     "data": {
      "image/png": "[encoded data removed]",
      "text/plain": [
       "plot without title"
      ]
     },
     "metadata": {},
     "output_type": "display_data"
    }
   ],
   "source": [
    "# 绘制残差图\n",
    "par(mfrow=c(2,2))\n",
    "plot(r_mm_ast1);plot(r_mm_ast2);plot(r_m_num1);plot(r_mm_num2);\n",
    "# 残差的白噪声检验\n",
    "t_ast1 <- Box.test(r_mm_ast1, lag = 24, type = \"Ljung-Box\", fitdf = 2)\n",
    "t_ast2 <- Box.test(r_mm_ast2, lag = 24, type = \"Ljung-Box\", fitdf = 2)\n",
    "t_num1 <- Box.test(r_m_num1, lag = 24, type = \"Ljung-Box\", fitdf = 1)\n",
    "t_num2 <- Box.test(r_mm_num2, lag = 24, type = \"Ljung-Box\", fitdf = 2)\n",
    "\n",
    "t_ast1; t_ast2; t_num1;t_num2"
   ]
  },
  {
   "cell_type": "markdown",
   "metadata": {},
   "source": [
    "**Conclusion**：2012年作为分界点切开，仍然是2阶差分模型；\n",
    "其残差和显著程度同2013年相比，白噪声的效果更好一些。"
   ]
  },
  {
   "cell_type": "code",
   "execution_count": 29,
   "metadata": {
    "collapsed": true
   },
   "outputs": [
    {
     "data": {
      "image/png": "[encoded data removed]",
      "text/plain": [
       "plot without title"
      ]
     },
     "metadata": {},
     "output_type": "display_data"
    }
   ],
   "source": [
    "# 在不使用对数的情况下\n",
    "par(mfrow=c(2,2))\n",
    "plot(ast1);plot(ast2);plot(num1);plot(num2);"
   ]
  },
  {
   "cell_type": "code",
   "execution_count": 30,
   "metadata": {
    "collapsed": true
   },
   "outputs": [
    {
     "name": "stdout",
     "output_type": "stream",
     "text": [
      "[1] \"m_ast1\"\n"
     ]
    },
    {
     "data": {
      "text/plain": [
       "Series: ast1 \n",
       "ARIMA(2,1,0) with drift         \n",
       "\n",
       "Coefficients:\n",
       "          ar1      ar2     drift\n",
       "      -0.0119  -0.4752  208.4219\n",
       "s.e.   0.1228   0.1209   36.2735\n",
       "\n",
       "sigma^2 estimated as 245197:  log likelihood=-631.51\n",
       "AIC=1271.01   AICc=1271.53   BIC=1280.69"
      ]
     },
     "metadata": {},
     "output_type": "display_data"
    },
    {
     "name": "stdout",
     "output_type": "stream",
     "text": [
      "[1] \"m_ast2\"\n"
     ]
    },
    {
     "data": {
      "text/plain": [
       "Series: ast2 \n",
       "ARIMA(0,1,0) with drift         \n",
       "\n",
       "Coefficients:\n",
       "         drift\n",
       "      8208.351\n",
       "s.e.  1723.078\n",
       "\n",
       "sigma^2 estimated as 549278911:  log likelihood=-2112\n",
       "AIC=4228   AICc=4228.07   BIC=4234.43"
      ]
     },
     "metadata": {},
     "output_type": "display_data"
    },
    {
     "name": "stdout",
     "output_type": "stream",
     "text": [
      "[1] \"m_num1\"\n"
     ]
    },
    {
     "data": {
      "text/plain": [
       "Series: num1 \n",
       "ARIMA(1,1,0) with drift         \n",
       "\n",
       "Coefficients:\n",
       "          ar1   drift\n",
       "      -0.6282  0.3098\n",
       "s.e.   0.1071  0.1752\n",
       "\n",
       "sigma^2 estimated as 6.924:  log likelihood=-199.7\n",
       "AIC=405.4   AICc=405.7   BIC=412.7"
      ]
     },
     "metadata": {},
     "output_type": "display_data"
    },
    {
     "name": "stdout",
     "output_type": "stream",
     "text": [
      "[1] \"m_num2\"\n"
     ]
    },
    {
     "data": {
      "text/plain": [
       "Series: num2 \n",
       "ARIMA(0,2,1)                    \n",
       "\n",
       "Coefficients:\n",
       "          ma1\n",
       "      -0.8460\n",
       "s.e.   0.0607\n",
       "\n",
       "sigma^2 estimated as 77.86:  log likelihood=-658.27\n",
       "AIC=1320.54   AICc=1320.61   BIC=1326.96"
      ]
     },
     "metadata": {},
     "output_type": "display_data"
    },
    {
     "data": {
      "text/plain": [
       "\n",
       "\tBox-Ljung test\n",
       "\n",
       "data:  r_m_ast1\n",
       "X-squared = 12.475, df = 22, p-value = 0.9468\n"
      ]
     },
     "metadata": {},
     "output_type": "display_data"
    },
    {
     "data": {
      "text/plain": [
       "\n",
       "\tBox-Ljung test\n",
       "\n",
       "data:  r_m_ast2\n",
       "X-squared = 32.586, df = 22, p-value = 0.06793\n"
      ]
     },
     "metadata": {},
     "output_type": "display_data"
    },
    {
     "data": {
      "text/plain": [
       "\n",
       "\tBox-Ljung test\n",
       "\n",
       "data:  r_m_num1\n",
       "X-squared = 6.9879, df = 23, p-value = 0.9995\n"
      ]
     },
     "metadata": {},
     "output_type": "display_data"
    },
    {
     "data": {
      "text/plain": [
       "\n",
       "\tBox-Ljung test\n",
       "\n",
       "data:  r_mm_num2\n",
       "X-squared = 20.266, df = 22, p-value = 0.5664\n"
      ]
     },
     "metadata": {},
     "output_type": "display_data"
    },
    {
     "data": {
      "image/png": "[encoded data removed]",
      "text/plain": [
       "plot without title"
      ]
     },
     "metadata": {},
     "output_type": "display_data"
    }
   ],
   "source": [
    "# 不使用对数进行建模\n",
    "ast1 = ts(ast[1:(7*12)],frequency = 12, start=1995)\n",
    "ast2 = ts(ast[85:269],frequency = 12, start = 2002)\n",
    "num1 = ts(num[1:85], frequency = 12, start=1995)\n",
    "num2 = ts(num[85:269],frequency = 12, start = 2002)\n",
    "#依次做ARIMA建模\n",
    "m_ast1 <- auto.arima(ast1)\n",
    "m_ast2 <- auto.arima(ast2)\n",
    "m_num1 <- auto.arima(num1)\n",
    "m_num2 <- auto.arima(num2)\n",
    "\n",
    "print(\"m_ast1\");m_ast1; #arima(2,1,0)\n",
    "print(\"m_ast2\");m_ast2; #arima(0,1,0)\n",
    "print(\"m_num1\");m_num1; #arima(1,1,0)\n",
    "print(\"m_num2\");m_num2; #arima(0,2,1)\n",
    "\n",
    "# 差分模型 \n",
    "m_ast1 <- auto.arima( diff(ast1, differences = 1))\n",
    "m_ast2 <- auto.arima( diff(ast2,differences = 1) )\n",
    "m_num1 <- auto.arima( diff(num1, differences = 1))\n",
    "mm_num2 <- auto.arima( diff(num2, differences = 2))\n",
    "# 计算残差\n",
    "r_m_ast1 <- m_ast1$residuals\n",
    "r_m_ast2 <- m_ast2$residuals\n",
    "r_m_num1 <- m_num1$residuals\n",
    "r_mm_num2 <- mm_num2$residuals\n",
    "\n",
    "# 绘制残差图\n",
    "par(mfrow=c(2,2))\n",
    "plot(r_m_ast1);plot(r_m_ast2);plot(r_m_num1);plot(r_mm_num2);\n",
    "# 残差的白噪声检验\n",
    "t_ast1 <- Box.test(r_m_ast1, lag = 24, type = \"Ljung-Box\", fitdf = 2)\n",
    "t_ast2 <- Box.test(r_m_ast2, lag = 24, type = \"Ljung-Box\", fitdf = 2)\n",
    "t_num1 <- Box.test(r_m_num1, lag = 24, type = \"Ljung-Box\", fitdf = 1)\n",
    "t_num2 <- Box.test(r_mm_num2, lag = 24, type = \"Ljung-Box\", fitdf = 2)\n",
    "\n",
    "t_ast1; t_ast2; t_num1;t_num2\n"
   ]
  },
  {
   "cell_type": "markdown",
   "metadata": {},
   "source": [
    "####  考虑到2002-2003年法律落地期，从2004年开始分析"
   ]
  },
  {
   "cell_type": "code",
   "execution_count": 50,
   "metadata": {
    "collapsed": true
   },
   "outputs": [
    {
     "name": "stdout",
     "output_type": "stream",
     "text": [
      "[1] \"m_lgast3\"\n",
      "Series: log(ast3) \n",
      "ARIMA(0,2,1)                    \n",
      "\n",
      "Coefficients:\n",
      "          ma1\n",
      "      -0.8570\n",
      "s.e.   0.0721\n",
      "\n",
      "sigma^2 estimated as 0.001075:  log likelihood=317.73\n",
      "AIC=-631.46   AICc=-631.38   BIC=-625.32\n",
      "[1] \"m_lgnum3\"\n",
      "Series: log(num3) \n",
      "ARIMA(2,2,1)(2,0,0)[12]                    \n",
      "\n",
      "Coefficients:\n",
      "         ar1      ar2      ma1    sar1     sar2\n",
      "      0.3140  -0.0783  -0.7168  0.2470  -0.4025\n",
      "s.e.  0.1559   0.1163   0.1350  0.1227   0.1119\n",
      "\n",
      "sigma^2 estimated as 0.0003057:  log likelihood=417.88\n",
      "AIC=-823.76   AICc=-823.2   BIC=-805.34\n",
      "[1] \"m_ast3\"\n",
      "Series: ast3 \n",
      "ARIMA(0,1,0) with drift         \n",
      "\n",
      "Coefficients:\n",
      "         drift\n",
      "      8962.175\n",
      "s.e.  1965.599\n",
      "\n",
      "sigma^2 estimated as 622058631:  log likelihood=-1846.41\n",
      "AIC=3696.82   AICc=3696.9   BIC=3702.97\n",
      "[1] \"m_num3\"\n",
      "Series: num3 \n",
      "ARIMA(0,2,1)(1,0,1)[12]                    \n",
      "\n",
      "Coefficients:\n",
      "          ma1     sar1    sma1\n",
      "      -0.8390  -0.3802  0.6241\n",
      "s.e.   0.0589   0.2090  0.1730\n",
      "\n",
      "sigma^2 estimated as 78.17:  log likelihood=-571.86\n",
      "AIC=1151.72   AICc=1151.98   BIC=1163.99\n"
     ]
    },
    {
     "data": {
      "image/png": "[encoded data removed]",
      "text/plain": [
       "plot without title"
      ]
     },
     "metadata": {},
     "output_type": "display_data"
    }
   ],
   "source": [
    "# 截取2004年开始的数据\n",
    "ast3 <- ts(ast[109:269], frequency = 12, start = 2004)\n",
    "num3 <- ts(num[109:269], frequency = 12, start = 2004)\n",
    "# 模型阶数判断\n",
    "# 取对数的模型\n",
    "m_lgast3 <- auto.arima(log(ast3))\n",
    "m_lgnum3 <- auto.arima(log(num3))\n",
    "\n",
    "print(\"m_lgast3\"); print(m_lgast3); #ARIMA(2,2,1)\n",
    "print(\"m_lgnum3\"); print(m_lgnum3); #ARIMA(2,2,1)\n",
    "# 不取对数的模型\n",
    "m_ast3 <- auto.arima(ast3) #ARIMA(0,1,0)\n",
    "m_num3 <- auto.arima(num3) #ARIMA(0,2,1)\n",
    "\n",
    "print(\"m_ast3\"); print(m_ast3);\n",
    "print(\"m_num3\"); print(m_num3);\n",
    "\n",
    "# 查看raw data and log data\n",
    "par(mfrow = c(2,2))\n",
    "plot(ast3);plot(num3);\n",
    "plot(log(ast3));plot(log(num3))"
   ]
  },
  {
   "cell_type": "code",
   "execution_count": 52,
   "metadata": {
    "collapsed": false,
    "scrolled": false
   },
   "outputs": [
    {
     "data": {
      "image/png": "[encoded data removed]",
      "text/plain": [
       "plot without title"
      ]
     },
     "metadata": {},
     "output_type": "display_data"
    },
    {
     "name": "stdout",
     "output_type": "stream",
     "text": [
      "\n",
      "\tBox-Ljung test\n",
      "\n",
      "data:  r_m_ast3\n",
      "X-squared = 29.782, df = 24, p-value = 0.1921\n",
      "\n",
      "\n",
      "\tBox-Ljung test\n",
      "\n",
      "data:  r_m_ast3\n",
      "X-squared = 29.782, df = 24, p-value = 0.1921\n",
      "\n"
     ]
    },
    {
     "data": {
      "image/png": "[encoded data removed]",
      "text/plain": [
       "plot without title"
      ]
     },
     "metadata": {},
     "output_type": "display_data"
    }
   ],
   "source": [
    "# 直接使用原数据2004年开始进行ARIMA建模\n",
    "m_ast3 <- auto.arima(diff(ast3, differences = 1))\n",
    "m_num3 <- auto.arima(diff(num3, differences = 2))\n",
    "\n",
    "#得到残差\n",
    "r_m_ast3 <- m_ast3$residuals\n",
    "r_m_num3 <- m_num3$residuals\n",
    "#绘制残差图\n",
    "plot(r_m_ast3);plot(r_m_num3)\n",
    "# 残差的白噪声检验\n",
    "t_ast3 <- Box.test(r_m_ast3, lag=24, type = \"Ljung-Box\")\n",
    "t_num3 <- Box.test(r_m_ast3, lag=24, type = \"Ljung-Box\")\n",
    "print(t_ast3);print(t_num3)"
   ]
  },
  {
   "cell_type": "code",
   "execution_count": null,
   "metadata": {
    "collapsed": false,
    "scrolled": false
   },
   "outputs": [],
   "source": [
    "# 使用对数数据2004年开始进行ARIMA建模\n",
    "m_lgast3 <- auto.arima(diff(log(ast3), differences = 2))\n",
    "m_lgnum3 <- auto.arima(diff(log(num3), differences = 2))\n",
    "\n",
    "#得到残差\n",
    "r_m_lgast3 <- m_lgast3$residuals\n",
    "r_m_lgnum3 <- m_lgnum3$residuals\n",
    "#绘制残差图\n",
    "plot(r_m_lgast3);plot(r_m_lgnum3)\n",
    "# 残差的白噪声检验\n",
    "t_ast3 <- Box.test(r_m_lgast3, lag=24, type = \"Ljung-Box\")\n",
    "t_num3 <- Box.test(r_m_lgnum3, lag=24, type = \"Ljung-Box\")\n",
    "print(t_ast3);print(t_num3)"
   ]
  },
  {
   "cell_type": "markdown",
   "metadata": {},
   "source": [
    "### 季节模型"
   ]
  },
  {
   "cell_type": "code",
   "execution_count": 45,
   "metadata": {
    "collapsed": false
   },
   "outputs": [
    {
     "data": {
      "text/html": [
       "108"
      ],
      "text/latex": [
       "108"
      ],
      "text/markdown": [
       "108"
      ],
      "text/plain": [
       "[1] 108"
      ]
     },
     "metadata": {},
     "output_type": "display_data"
    }
   ],
   "source": [
    "12*9"
   ]
  },
  {
   "cell_type": "code",
   "execution_count": 31,
   "metadata": {
    "collapsed": false
   },
   "outputs": [
    {
     "data": {
      "text/html": [
       "<ol class=list-inline>\n",
       "\t<li>269</li>\n",
       "\t<li>1</li>\n",
       "</ol>\n"
      ],
      "text/latex": [
       "\\begin{enumerate*}\n",
       "\\item 269\n",
       "\\item 1\n",
       "\\end{enumerate*}\n"
      ],
      "text/markdown": [
       "1. 269\n",
       "2. 1\n",
       "\n",
       "\n"
      ],
      "text/plain": [
       "[1] 269   1"
      ]
     },
     "metadata": {},
     "output_type": "display_data"
    },
    {
     "data": {
      "text/html": [
       "<ol class=list-inline>\n",
       "\t<li>269</li>\n",
       "\t<li>1</li>\n",
       "</ol>\n"
      ],
      "text/latex": [
       "\\begin{enumerate*}\n",
       "\\item 269\n",
       "\\item 1\n",
       "\\end{enumerate*}\n"
      ],
      "text/markdown": [
       "1. 269\n",
       "2. 1\n",
       "\n",
       "\n"
      ],
      "text/plain": [
       "[1] 269   1"
      ]
     },
     "metadata": {},
     "output_type": "display_data"
    },
    {
     "data": {
      "text/html": [
       "173"
      ],
      "text/latex": [
       "173"
      ],
      "text/markdown": [
       "173"
      ],
      "text/plain": [
       "[1] 173"
      ]
     },
     "metadata": {},
     "output_type": "display_data"
    },
    {
     "data": {
      "text/html": [
       "96"
      ],
      "text/latex": [
       "96"
      ],
      "text/markdown": [
       "96"
      ],
      "text/plain": [
       "[1] 96"
      ]
     },
     "metadata": {},
     "output_type": "display_data"
    }
   ],
   "source": [
    "dim(ast)\n",
    "dim(num)\n",
    "269-8*12\n",
    "8*12"
   ]
  }
 ],
 "metadata": {
  "kernelspec": {
   "display_name": "R 3.4",
   "language": "R",
   "name": "ir3r"
  },
  "language_info": {
   "codemirror_mode": "r",
   "file_extension": ".r",
   "mimetype": "text/x-r-source",
   "name": "R",
   "pygments_lexer": "r",
   "version": "3.4.0"
  }
 },
 "nbformat": 4,
 "nbformat_minor": 2
}
