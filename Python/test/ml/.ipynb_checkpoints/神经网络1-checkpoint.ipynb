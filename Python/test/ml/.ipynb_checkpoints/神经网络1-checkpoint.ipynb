{
 "cells": [
  {
   "cell_type": "markdown",
   "metadata": {},
   "source": [
    "reference:\n",
    "http://www.jianshu.com/p/2b584946da9c"
   ]
  },
  {
   "cell_type": "code",
   "execution_count": 1,
   "metadata": {
    "collapsed": false
   },
   "outputs": [
    {
     "name": "stdout",
     "output_type": "stream",
     "text": [
      "[[ 0.00966449]\n",
      " [ 0.00786506]\n",
      " [ 0.99358898]\n",
      " [ 0.99211957]]\n"
     ]
    }
   ],
   "source": [
    "import numpy as np\n",
    "\n",
    "# sigmoid 函数\n",
    "def nonlin(x,deriv=False):\n",
    "    if(deriv==True):\n",
    "        return x*(1-x)\n",
    "    return 1/(1+np.exp(-x))\n",
    "\n",
    "# 输入数据集\n",
    "X = np.array([  [0,0,1],\n",
    "                [0,1,1],\n",
    "                [1,0,1],\n",
    "                [1,1,1] ])\n",
    "\n",
    "# 输出数据集            \n",
    "y = np.array([[0,0,1,1]]).T\n",
    "\n",
    "np.random.seed(1)\n",
    "\n",
    "# 随机初始化权重并使均值为零\n",
    "syn0 = 2*np.random.random((3,1)) - 1\n",
    "\n",
    "for i in range(10000):\n",
    "    l0 = X\n",
    "    l1 = nonlin(np.dot(l0,syn0))\n",
    "\n",
    "#误差\n",
    "    l1_error = y - l1\n",
    "\n",
    "    l1_delta = l1_error * nonlin(l1,True)\n",
    "\n",
    "# 更新权重\n",
    "    syn0 += np.dot(l0.T,l1_delta)\n",
    "print (l1)"
   ]
  },
  {
   "cell_type": "code",
   "execution_count": 9,
   "metadata": {
    "collapsed": false
   },
   "outputs": [
    {
     "name": "stdout",
     "output_type": "stream",
     "text": [
      "[[ 0.00333414]\n",
      " [ 0.99621531]\n",
      " [ 0.99615133]\n",
      " [ 0.00469781]]\n"
     ]
    }
   ],
   "source": [
    "import numpy as np\n",
    "\n",
    "# sigmoid 函数 \n",
    "def nonlin(x,deriv=False):\n",
    "    if(deriv==True):\n",
    "        return x*(1-x) \n",
    "    return 1/(1+np.exp(-x))\n",
    "\n",
    "# 输入数据集 \n",
    "X = np.array([[0,0,1],\n",
    "            [0,1,1],\n",
    "            [1,0,1],\n",
    "            [1,1,1]])\n",
    "\n",
    "# 输出数据集 \n",
    "y = np.array([[0],\n",
    "            [1],\n",
    "            [1],\n",
    "            [0]])\n",
    "\n",
    "np.random.seed(100)\n",
    "\n",
    "# 随机初始化权重并使均值为零\n",
    "syn0 = 2*np.random.random((3,5)) - 1\n",
    "syn1 = 2*np.random.random((5,1)) - 1\n",
    "\n",
    "for j in range(50000):\n",
    "    l0 = X\n",
    "    l1 = nonlin(np.dot(l0,syn0))\n",
    "    l2 = nonlin(np.dot(l1,syn1))\n",
    "\n",
    "#l2层\n",
    "    l2_error = y - l2 \n",
    "    l2_delta = l2_error*nonlin(l2,deriv=True)\n",
    "\n",
    "#l1层 \n",
    "    l1_error = l2_delta.dot(syn1.T) \n",
    "    l1_delta = l1_error * nonlin(l1,deriv=True)\n",
    "\n",
    "# 更新权重\n",
    "    syn1 += l1.T.dot(l2_delta)\n",
    "    syn0 += l0.T.dot(l1_delta)\n",
    "print(l2)"
   ]
  }
 ],
 "metadata": {
  "kernelspec": {
   "display_name": "Python 3",
   "language": "python",
   "name": "python3"
  },
  "language_info": {
   "codemirror_mode": {
    "name": "ipython",
    "version": 3
   },
   "file_extension": ".py",
   "mimetype": "text/x-python",
   "name": "python",
   "nbconvert_exporter": "python",
   "pygments_lexer": "ipython3",
   "version": "3.6.0"
  }
 },
 "nbformat": 4,
 "nbformat_minor": 2
}
