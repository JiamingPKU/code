{
 "cells": [
  {
   "cell_type": "markdown",
   "metadata": {},
   "source": [
    "#### 说明\n",
    "本部分对fof和retire进行协整分析。 \n",
    "1. **平稳性**。fof与retire都是非平稳的，取对数后仍然非平稳。但它们的增长率都是平稳序列（对数再差分）\n",
    "2. **协整建模1**。 $fof$**~ **$retire$ 。结果残差是平稳的，说明2个I(1)的过程结果得到了I(0)的过程。协整向量为(1, -0.15)。同时建立ECM方程。\n",
    "3. **协整建模2**。$log(fof)$**~ **$log(retire)$ 。结果残差是平稳的。同上。协整向量为(1, -1.9)。同时建立ECM方程。\n",
    "4. **协整建模3**。使用*Lecture11* 中的$ca.jo()$函数建模。结果：\n",
    "    1. 对fof与retire分析时不存在协整关系。\n",
    "    2. 对log(fof)与log(retire)分析时也不存在协整关系。\n",
    "    3. 对GR_fof与GR_retire分析时存在协整关系。但是这个是平稳序列。"
   ]
  },
  {
   "cell_type": "code",
   "execution_count": 2,
   "metadata": {
    "collapsed": true
   },
   "outputs": [
    {
     "data": {
      "text/html": [
       "'F:/git/R/0510'"
      ],
      "text/latex": [
       "'F:/git/R/0510'"
      ],
      "text/markdown": [
       "'F:/git/R/0510'"
      ],
      "text/plain": [
       "[1] \"F:/git/R/0510\""
      ]
     },
     "metadata": {},
     "output_type": "display_data"
    },
    {
     "data": {
      "text/html": [
       "<ol>\n",
       "\t<li>TRUE</li>\n",
       "\t<li>TRUE</li>\n",
       "\t<li>TRUE</li>\n",
       "\t<li>TRUE</li>\n",
       "\t<li>TRUE</li>\n",
       "\t<li>TRUE</li>\n",
       "\t<li>TRUE</li>\n",
       "\t<li>TRUE</li>\n",
       "\t<li>TRUE</li>\n",
       "</ol>\n"
      ],
      "text/latex": [
       "\\begin{enumerate}\n",
       "\\item TRUE\n",
       "\\item TRUE\n",
       "\\item TRUE\n",
       "\\item TRUE\n",
       "\\item TRUE\n",
       "\\item TRUE\n",
       "\\item TRUE\n",
       "\\item TRUE\n",
       "\\item TRUE\n",
       "\\end{enumerate}\n"
      ],
      "text/markdown": [
       "1. TRUE\n",
       "2. TRUE\n",
       "3. TRUE\n",
       "4. TRUE\n",
       "5. TRUE\n",
       "6. TRUE\n",
       "7. TRUE\n",
       "8. TRUE\n",
       "9. TRUE\n",
       "\n",
       "\n"
      ],
      "text/plain": [
       "[[1]]\n",
       "[1] TRUE\n",
       "\n",
       "[[2]]\n",
       "[1] TRUE\n",
       "\n",
       "[[3]]\n",
       "[1] TRUE\n",
       "\n",
       "[[4]]\n",
       "[1] TRUE\n",
       "\n",
       "[[5]]\n",
       "[1] TRUE\n",
       "\n",
       "[[6]]\n",
       "[1] TRUE\n",
       "\n",
       "[[7]]\n",
       "[1] TRUE\n",
       "\n",
       "[[8]]\n",
       "[1] TRUE\n",
       "\n",
       "[[9]]\n",
       "[1] TRUE\n"
      ]
     },
     "metadata": {},
     "output_type": "display_data"
    }
   ],
   "source": [
    "getwd()\n",
    "x=c(\"readxl\",\"TSA\",\"forecast\", \"FinTS\",\"e1071\",\"fGarch\",\"MTS\", \"urca\", \"dynlm\")\n",
    "lapply(x, require, character.only = T)\n",
    "rm(list=ls())\n",
    "\n",
    "data2 <- read_excel(\"API.xlsx\", sheet = \"RR\", col_types = c(\"skip\", \"skip\", \"skip\", \"skip\", \"numeric\", \"numeric\", \"skip\"))\n",
    "# 提取协整分析的数据，养老金和fof数量，从2007年开始\n",
    "retire = ts(data2[1], frequency = 4,start = c(2007,1),names = 'retire')\n",
    "fof = ts(data2[2], frequency = 4,start = c(2007,1),names = 'fof')"
   ]
  },
  {
   "cell_type": "code",
   "execution_count": 44,
   "metadata": {
    "collapsed": false,
    "scrolled": true
   },
   "outputs": [
    {
     "data": {
      "text/html": [
       "<table>\n",
       "<thead><tr><th scope=col>Start</th><th scope=col>Size</th><th scope=col>Mean</th><th scope=col>Standard.Deviation</th><th scope=col>Skewness</th><th scope=col>Excess.Kurtosis</th><th scope=col>Minimum</th><th scope=col>Maximum</th></tr></thead>\n",
       "<tbody>\n",
       "\t<tr><td>2007     </td><td>40       </td><td>10926.12 </td><td>2355.952 </td><td>0.1958747</td><td>-1.398626</td><td>6965     </td><td>14878    </td></tr>\n",
       "</tbody>\n",
       "</table>\n"
      ],
      "text/latex": [
       "\\begin{tabular}{r|llllllll}\n",
       " Start & Size & Mean & Standard.Deviation & Skewness & Excess.Kurtosis & Minimum & Maximum\\\\\n",
       "\\hline\n",
       "\t 2007      & 40        & 10926.12  & 2355.952  & 0.1958747 & -1.398626 & 6965      & 14878    \\\\\n",
       "\\end{tabular}\n"
      ],
      "text/markdown": [
       "\n",
       "Start | Size | Mean | Standard.Deviation | Skewness | Excess.Kurtosis | Minimum | Maximum | \n",
       "|---|\n",
       "| 2007      | 40        | 10926.12  | 2355.952  | 0.1958747 | -1.398626 | 6965      | 14878     | \n",
       "\n",
       "\n"
      ],
      "text/plain": [
       "  Start Size Mean     Standard.Deviation Skewness  Excess.Kurtosis Minimum\n",
       "1 2007  40   10926.12 2355.952           0.1958747 -1.398626       6965   \n",
       "  Maximum\n",
       "1 14878  "
      ]
     },
     "metadata": {},
     "output_type": "display_data"
    },
    {
     "data": {
      "text/html": [
       "<table>\n",
       "<thead><tr><th scope=col>Start</th><th scope=col>Size</th><th scope=col>Mean</th><th scope=col>Standard.Deviation</th><th scope=col>Skewness</th><th scope=col>Excess.Kurtosis</th><th scope=col>Minimum</th><th scope=col>Maximum</th></tr></thead>\n",
       "<tbody>\n",
       "\t<tr><td>2007     </td><td>40       </td><td>909.7876 </td><td>366.4115 </td><td>0.1585325</td><td>-1.574529</td><td>413.1352 </td><td>1459.184 </td></tr>\n",
       "</tbody>\n",
       "</table>\n"
      ],
      "text/latex": [
       "\\begin{tabular}{r|llllllll}\n",
       " Start & Size & Mean & Standard.Deviation & Skewness & Excess.Kurtosis & Minimum & Maximum\\\\\n",
       "\\hline\n",
       "\t 2007      & 40        & 909.7876  & 366.4115  & 0.1585325 & -1.574529 & 413.1352  & 1459.184 \\\\\n",
       "\\end{tabular}\n"
      ],
      "text/markdown": [
       "\n",
       "Start | Size | Mean | Standard.Deviation | Skewness | Excess.Kurtosis | Minimum | Maximum | \n",
       "|---|\n",
       "| 2007      | 40        | 909.7876  | 366.4115  | 0.1585325 | -1.574529 | 413.1352  | 1459.184  | \n",
       "\n",
       "\n"
      ],
      "text/plain": [
       "  Start Size Mean     Standard.Deviation Skewness  Excess.Kurtosis Minimum \n",
       "1 2007  40   909.7876 366.4115           0.1585325 -1.574529       413.1352\n",
       "  Maximum \n",
       "1 1459.184"
      ]
     },
     "metadata": {},
     "output_type": "display_data"
    }
   ],
   "source": [
    "FinTS.stats(retire)\n",
    "FinTS.stats(fof)"
   ]
  },
  {
   "cell_type": "code",
   "execution_count": 50,
   "metadata": {
    "collapsed": false
   },
   "outputs": [
    {
     "data": {
      "image/png": "[encoded data removed]",
      "text/plain": [
       "Plot with title \"Growth Rates of Retire and FOF in Last 10 years\""
      ]
     },
     "metadata": {},
     "output_type": "display_data"
    },
    {
     "data": {
      "image/png": "[encoded data removed]",
      "text/plain": [
       "plot without title"
      ]
     },
     "metadata": {},
     "output_type": "display_data"
    }
   ],
   "source": [
    "# 获得增长率\n",
    "GR_retire = diff(log(retire))\n",
    "GR_fof = diff(log(fof))\n",
    "par(mfrow=c(2,1))\n",
    "# 基数的协整关系比较复杂，不容易查看\n",
    "ts.plot(retire, fof*10, col = rainbow(8), gpars = list(xlab=\"year\", ylab=\"number\" ))\n",
    "title(\"Time Trends of Retire and FOF in Last 10 Years\")\n",
    "# legend(x=2007,y=9000, c(\"Retire\",\"FOF*10\"), text.col = rainbow(8), bty=\"n\")\n",
    "legend(x=2007, y= 9500, c(\"Retire\"), text.col=rainbow(8)[1], bty=\"n\")\n",
    "legend(x=2007, y= 7500, c(\"FOF * 10\"), text.col=rainbow(8)[2], bty=\"n\")\n",
    "# 增长率之间趋势相同，可以看出有协整关系\n",
    "ts.plot(GR_retire, GR_fof, col=rainbow(8))\n",
    "title(\"Growth Rates of Retire and FOF in Last 10 years\")\n",
    "legend(x=2010, y= -0.05, c(\"the Growth Rate of Retire\"), text.col=rainbow(8)[1], bty=\"n\")\n",
    "legend(x=2007, y= 0.22, c(\"the Growth Rate of FOF\"), text.col=rainbow(8)[2], bty=\"n\")\n",
    "# ts.plot(diff(fof), diff(retire),col=rainbow(8))\n"
   ]
  },
  {
   "cell_type": "markdown",
   "metadata": {},
   "source": [
    "#### 单位根检验"
   ]
  },
  {
   "cell_type": "markdown",
   "metadata": {},
   "source": [
    "进行单位根检验，分别使用*DF-test*、*KPSS-test*、*PP-test*来确保检验结果的稳健性。结果……一脸懵逼啊"
   ]
  },
  {
   "cell_type": "code",
   "execution_count": 6,
   "metadata": {
    "collapsed": false,
    "scrolled": true
   },
   "outputs": [
    {
     "data": {
      "text/plain": [
       "\n",
       "############################################### \n",
       "# Augmented Dickey-Fuller Test Unit Root Test # \n",
       "############################################### \n",
       "\n",
       "Test regression none \n",
       "\n",
       "\n",
       "Call:\n",
       "lm(formula = z.diff ~ z.lag.1 - 1 + z.diff.lag)\n",
       "\n",
       "Residuals:\n",
       "    Min      1Q  Median      3Q     Max \n",
       "-855.05  -41.91  163.29  469.74  770.84 \n",
       "\n",
       "Coefficients:\n",
       "            Estimate Std. Error t value Pr(>|t|)  \n",
       "z.lag.1     -0.64920    0.28057  -2.314   0.0275 *\n",
       "z.diff.lag1 -0.05236    0.25661  -0.204   0.8397  \n",
       "z.diff.lag2 -0.07284    0.21765  -0.335   0.7401  \n",
       "z.diff.lag3 -0.04216    0.17733  -0.238   0.8136  \n",
       "---\n",
       "Signif. codes:  0 '***' 0.001 '**' 0.01 '*' 0.05 '.' 0.1 ' ' 1\n",
       "\n",
       "Residual standard error: 477.6 on 31 degrees of freedom\n",
       "Multiple R-squared:  0.3587,\tAdjusted R-squared:  0.2759 \n",
       "F-statistic: 4.334 on 4 and 31 DF,  p-value: 0.00671\n",
       "\n",
       "\n",
       "Value of test-statistic is: -2.3138 \n",
       "\n",
       "Critical values for test statistics: \n",
       "      1pct  5pct 10pct\n",
       "tau1 -2.62 -1.95 -1.61\n"
      ]
     },
     "metadata": {},
     "output_type": "display_data"
    },
    {
     "data": {
      "text/plain": [
       "\n",
       "####################### \n",
       "# KPSS Unit Root Test # \n",
       "####################### \n",
       "\n",
       "Test is of type: mu with 3 lags. \n",
       "\n",
       "Value of test-statistic is: 0.1809 \n",
       "\n",
       "Critical value for a significance level of: \n",
       "                10pct  5pct 2.5pct  1pct\n",
       "critical values 0.347 0.463  0.574 0.739\n"
      ]
     },
     "metadata": {},
     "output_type": "display_data"
    },
    {
     "data": {
      "text/plain": [
       "\n",
       "################################## \n",
       "# Phillips-Perron Unit Root Test # \n",
       "################################## \n",
       "\n",
       "Test regression with intercept \n",
       "\n",
       "\n",
       "Call:\n",
       "lm(formula = y ~ y.l1)\n",
       "\n",
       "Residuals:\n",
       "     Min       1Q   Median       3Q      Max \n",
       "-1036.46  -146.86    38.13   352.54   635.49 \n",
       "\n",
       "Coefficients:\n",
       "            Estimate Std. Error t value Pr(>|t|)\n",
       "(Intercept) 117.0365    75.0543   1.559    0.128\n",
       "y.l1          0.2149     0.1618   1.328    0.192\n",
       "\n",
       "Residual standard error: 435 on 36 degrees of freedom\n",
       "Multiple R-squared:  0.04672,\tAdjusted R-squared:  0.02024 \n",
       "F-statistic: 1.764 on 1 and 36 DF,  p-value: 0.1925\n",
       "\n",
       "\n",
       "Value of test-statistic, type: Z-alpha  is: -28.6452 \n",
       "\n",
       "         aux. Z statistics\n",
       "Z-tau-mu             1.546\n"
      ]
     },
     "metadata": {},
     "output_type": "display_data"
    }
   ],
   "source": [
    "# df-test/pp-test的原假设是非平稳， kpss-test的原假设是平稳\n",
    "summary(ur.df(diff(retire),lags=3)) #拒绝\n",
    "summary(ur.kpss(diff(retire))) #不拒绝\n",
    "summary(ur.pp(diff(retire))) #小于临界值\n",
    "\n",
    "#ADF检验，拒绝说明平稳，不拒绝说明不平稳\n",
    "# adf.test(retire) #平稳\n",
    "# adf.test(fof) #非平稳\n",
    "# adf.test(GR_retire) #非平稳\n",
    "# adf.test(GR_fof) #平稳\n",
    "\n",
    "\n",
    "# adf.test(retire,alternative = 'explosive') # 不是爆炸性过程\n",
    "# adf.test(fof,alternative = 'explosive') #不是爆炸性过程\n",
    "# adf.test(GR_retire,alternative = 'explosive') #不是爆炸性过程\n",
    "# adf.test(GR_fof,alternative = 'explosive') #不是爆炸性过程\n",
    "\n",
    "\n",
    "# df-test/pp-test的原假设是非平稳， kpss-test的原假设是平稳\n",
    "summary(ur.df(retire, lags = 3)) # 不拒绝\n",
    "# adf.test(retire)\n",
    "summary(ur.kpss(retire)) #拒绝\n",
    "summary(ur.pp(retire)) # 不拒绝 （临界值附近）\n",
    "\n",
    "summary(ur.df(log(retire),lags=3)) #不拒绝\n",
    "summary(ur.kpss(log(retire))) #拒绝\n",
    "summary(ur.pp(log(retire))) #不拒绝\n",
    "\n",
    "summary(ur.df(GR_retire,lags=3)) #拒绝\n",
    "summary(ur.kpss(GR_retire)) #不拒绝\n",
    "summary(ur.pp(GR_retire)) #不拒绝"
   ]
  },
  {
   "cell_type": "code",
   "execution_count": 53,
   "metadata": {
    "collapsed": false
   },
   "outputs": [
    {
     "data": {
      "text/plain": [
       "\n",
       "############################################### \n",
       "# Augmented Dickey-Fuller Test Unit Root Test # \n",
       "############################################### \n",
       "\n",
       "Test regression none \n",
       "\n",
       "\n",
       "Call:\n",
       "lm(formula = z.diff ~ z.lag.1 - 1 + z.diff.lag)\n",
       "\n",
       "Residuals:\n",
       "     Min       1Q   Median       3Q      Max \n",
       "-115.824  -25.939    8.554   30.464  182.785 \n",
       "\n",
       "Coefficients:\n",
       "           Estimate Std. Error t value Pr(>|t|)  \n",
       "z.lag.1     0.02646    0.01046   2.531   0.0159 *\n",
       "z.diff.lag -0.09110    0.17204  -0.530   0.5997  \n",
       "---\n",
       "Signif. codes:  0 '***' 0.001 '**' 0.01 '*' 0.05 '.' 0.1 ' ' 1\n",
       "\n",
       "Residual standard error: 55.28 on 36 degrees of freedom\n",
       "Multiple R-squared:  0.1626,\tAdjusted R-squared:  0.116 \n",
       "F-statistic: 3.494 on 2 and 36 DF,  p-value: 0.04103\n",
       "\n",
       "\n",
       "Value of test-statistic is: 2.5305 \n",
       "\n",
       "Critical values for test statistics: \n",
       "      1pct  5pct 10pct\n",
       "tau1 -2.62 -1.95 -1.61\n"
      ]
     },
     "metadata": {},
     "output_type": "display_data"
    },
    {
     "data": {
      "text/plain": [
       "\n",
       "####################### \n",
       "# KPSS Unit Root Test # \n",
       "####################### \n",
       "\n",
       "Test is of type: mu with 3 lags. \n",
       "\n",
       "Value of test-statistic is: 1.0743 \n",
       "\n",
       "Critical value for a significance level of: \n",
       "                10pct  5pct 2.5pct  1pct\n",
       "critical values 0.347 0.463  0.574 0.739\n"
      ]
     },
     "metadata": {},
     "output_type": "display_data"
    },
    {
     "data": {
      "text/plain": [
       "\n",
       "################################## \n",
       "# Phillips-Perron Unit Root Test # \n",
       "################################## \n",
       "\n",
       "Test regression with intercept \n",
       "\n",
       "\n",
       "Call:\n",
       "lm(formula = y ~ y.l1)\n",
       "\n",
       "Residuals:\n",
       "    Min      1Q  Median      3Q     Max \n",
       "-127.92  -27.91   10.26   25.18  179.03 \n",
       "\n",
       "Coefficients:\n",
       "            Estimate Std. Error t value Pr(>|t|)    \n",
       "(Intercept) 31.90547   23.30711   1.369    0.179    \n",
       "y.l1         0.99354    0.02417  41.110   <2e-16 ***\n",
       "---\n",
       "Signif. codes:  0 '***' 0.001 '**' 0.01 '*' 0.05 '.' 0.1 ' ' 1\n",
       "\n",
       "Residual standard error: 53.76 on 37 degrees of freedom\n",
       "Multiple R-squared:  0.9786,\tAdjusted R-squared:  0.978 \n",
       "F-statistic:  1690 on 1 and 37 DF,  p-value: < 2.2e-16\n",
       "\n",
       "\n",
       "Value of test-statistic, type: Z-alpha  is: -0.1639 \n",
       "\n",
       "         aux. Z statistics\n",
       "Z-tau-mu              1.44\n"
      ]
     },
     "metadata": {},
     "output_type": "display_data"
    },
    {
     "data": {
      "text/plain": [
       "\n",
       "############################################### \n",
       "# Augmented Dickey-Fuller Test Unit Root Test # \n",
       "############################################### \n",
       "\n",
       "Test regression none \n",
       "\n",
       "\n",
       "Call:\n",
       "lm(formula = z.diff ~ z.lag.1 - 1 + z.diff.lag)\n",
       "\n",
       "Residuals:\n",
       "    Min      1Q  Median      3Q     Max \n",
       "-101.21  -20.73   25.62   41.98  190.07 \n",
       "\n",
       "Coefficients:\n",
       "           Estimate Std. Error t value Pr(>|t|)   \n",
       "z.lag.1     -0.7513     0.2208  -3.403  0.00168 **\n",
       "z.diff.lag  -0.1589     0.1662  -0.956  0.34566   \n",
       "---\n",
       "Signif. codes:  0 '***' 0.001 '**' 0.01 '*' 0.05 '.' 0.1 ' ' 1\n",
       "\n",
       "Residual standard error: 59.99 on 35 degrees of freedom\n",
       "Multiple R-squared:  0.4597,\tAdjusted R-squared:  0.4289 \n",
       "F-statistic: 14.89 on 2 and 35 DF,  p-value: 2.091e-05\n",
       "\n",
       "\n",
       "Value of test-statistic is: -3.4031 \n",
       "\n",
       "Critical values for test statistics: \n",
       "      1pct  5pct 10pct\n",
       "tau1 -2.62 -1.95 -1.61\n"
      ]
     },
     "metadata": {},
     "output_type": "display_data"
    },
    {
     "data": {
      "text/plain": [
       "\n",
       "####################### \n",
       "# KPSS Unit Root Test # \n",
       "####################### \n",
       "\n",
       "Test is of type: mu with 3 lags. \n",
       "\n",
       "Value of test-statistic is: 0.1161 \n",
       "\n",
       "Critical value for a significance level of: \n",
       "                10pct  5pct 2.5pct  1pct\n",
       "critical values 0.347 0.463  0.574 0.739\n"
      ]
     },
     "metadata": {},
     "output_type": "display_data"
    },
    {
     "data": {
      "text/plain": [
       "\n",
       "################################## \n",
       "# Phillips-Perron Unit Root Test # \n",
       "################################## \n",
       "\n",
       "Test regression with intercept \n",
       "\n",
       "\n",
       "Call:\n",
       "lm(formula = y ~ y.l1)\n",
       "\n",
       "Residuals:\n",
       "     Min       1Q   Median       3Q      Max \n",
       "-131.109  -34.671    9.996   26.495  180.409 \n",
       "\n",
       "Coefficients:\n",
       "            Estimate Std. Error t value Pr(>|t|)   \n",
       "(Intercept)  28.3908     9.8944   2.869  0.00684 **\n",
       "y.l1         -0.1052     0.1670  -0.630  0.53280   \n",
       "---\n",
       "Signif. codes:  0 '***' 0.001 '**' 0.01 '*' 0.05 '.' 0.1 ' ' 1\n",
       "\n",
       "Residual standard error: 54.12 on 36 degrees of freedom\n",
       "Multiple R-squared:  0.0109,\tAdjusted R-squared:  -0.01658 \n",
       "F-statistic: 0.3966 on 1 and 36 DF,  p-value: 0.5328\n",
       "\n",
       "\n",
       "Value of test-statistic, type: Z-alpha  is: -40.0703 \n",
       "\n",
       "         aux. Z statistics\n",
       "Z-tau-mu            2.8849\n"
      ]
     },
     "metadata": {},
     "output_type": "display_data"
    },
    {
     "data": {
      "text/plain": [
       "\n",
       "############################################### \n",
       "# Augmented Dickey-Fuller Test Unit Root Test # \n",
       "############################################### \n",
       "\n",
       "Test regression none \n",
       "\n",
       "\n",
       "Call:\n",
       "lm(formula = z.diff ~ z.lag.1 - 1 + z.diff.lag)\n",
       "\n",
       "Residuals:\n",
       "      Min        1Q    Median        3Q       Max \n",
       "-0.235654 -0.029210  0.009452  0.041083  0.160717 \n",
       "\n",
       "Coefficients:\n",
       "             Estimate Std. Error t value Pr(>|t|)  \n",
       "z.lag.1      0.004970   0.002183   2.277   0.0296 *\n",
       "z.diff.lag1  0.138442   0.173385   0.798   0.4305  \n",
       "z.diff.lag2 -0.137916   0.173951  -0.793   0.4337  \n",
       "z.diff.lag3 -0.192555   0.170644  -1.128   0.2675  \n",
       "---\n",
       "Signif. codes:  0 '***' 0.001 '**' 0.01 '*' 0.05 '.' 0.1 ' ' 1\n",
       "\n",
       "Residual standard error: 0.07144 on 32 degrees of freedom\n",
       "Multiple R-squared:  0.2051,\tAdjusted R-squared:  0.1057 \n",
       "F-statistic: 2.064 on 4 and 32 DF,  p-value: 0.1088\n",
       "\n",
       "\n",
       "Value of test-statistic is: 2.2765 \n",
       "\n",
       "Critical values for test statistics: \n",
       "      1pct  5pct 10pct\n",
       "tau1 -2.62 -1.95 -1.61\n"
      ]
     },
     "metadata": {},
     "output_type": "display_data"
    },
    {
     "data": {
      "text/plain": [
       "\n",
       "####################### \n",
       "# KPSS Unit Root Test # \n",
       "####################### \n",
       "\n",
       "Test is of type: mu with 3 lags. \n",
       "\n",
       "Value of test-statistic is: 1.0743 \n",
       "\n",
       "Critical value for a significance level of: \n",
       "                10pct  5pct 2.5pct  1pct\n",
       "critical values 0.347 0.463  0.574 0.739\n"
      ]
     },
     "metadata": {},
     "output_type": "display_data"
    },
    {
     "data": {
      "text/plain": [
       "\n",
       "################################## \n",
       "# Phillips-Perron Unit Root Test # \n",
       "################################## \n",
       "\n",
       "Test regression with intercept \n",
       "\n",
       "\n",
       "Call:\n",
       "lm(formula = y ~ y.l1)\n",
       "\n",
       "Residuals:\n",
       "     Min       1Q   Median       3Q      Max \n",
       "-0.25946 -0.03200  0.01179  0.03291  0.16546 \n",
       "\n",
       "Coefficients:\n",
       "            Estimate Std. Error t value Pr(>|t|)    \n",
       "(Intercept)  0.20848    0.17977    1.16    0.254    \n",
       "y.l1         0.97364    0.02673   36.43   <2e-16 ***\n",
       "---\n",
       "Signif. codes:  0 '***' 0.001 '**' 0.01 '*' 0.05 '.' 0.1 ' ' 1\n",
       "\n",
       "Residual standard error: 0.07 on 37 degrees of freedom\n",
       "Multiple R-squared:  0.9729,\tAdjusted R-squared:  0.9721 \n",
       "F-statistic:  1327 on 1 and 37 DF,  p-value: < 2.2e-16\n",
       "\n",
       "\n",
       "Value of test-statistic, type: Z-alpha  is: -1.0362 \n",
       "\n",
       "         aux. Z statistics\n",
       "Z-tau-mu            1.1587\n"
      ]
     },
     "metadata": {},
     "output_type": "display_data"
    },
    {
     "data": {
      "text/plain": [
       "\n",
       "############################################### \n",
       "# Augmented Dickey-Fuller Test Unit Root Test # \n",
       "############################################### \n",
       "\n",
       "Test regression none \n",
       "\n",
       "\n",
       "Call:\n",
       "lm(formula = z.diff ~ z.lag.1 - 1 + z.diff.lag)\n",
       "\n",
       "Residuals:\n",
       "     Min       1Q   Median       3Q      Max \n",
       "-0.19661 -0.00530  0.02530  0.06323  0.18321 \n",
       "\n",
       "Coefficients:\n",
       "           Estimate Std. Error t value Pr(>|t|)    \n",
       "z.lag.1    -0.74202    0.19820  -3.744  0.00065 ***\n",
       "z.diff.lag  0.02615    0.16466   0.159  0.87471    \n",
       "---\n",
       "Signif. codes:  0 '***' 0.001 '**' 0.01 '*' 0.05 '.' 0.1 ' ' 1\n",
       "\n",
       "Residual standard error: 0.07448 on 35 degrees of freedom\n",
       "Multiple R-squared:  0.3649,\tAdjusted R-squared:  0.3286 \n",
       "F-statistic: 10.05 on 2 and 35 DF,  p-value: 0.000355\n",
       "\n",
       "\n",
       "Value of test-statistic is: -3.7439 \n",
       "\n",
       "Critical values for test statistics: \n",
       "      1pct  5pct 10pct\n",
       "tau1 -2.62 -1.95 -1.61\n"
      ]
     },
     "metadata": {},
     "output_type": "display_data"
    },
    {
     "data": {
      "text/plain": [
       "\n",
       "####################### \n",
       "# KPSS Unit Root Test # \n",
       "####################### \n",
       "\n",
       "Test is of type: mu with 3 lags. \n",
       "\n",
       "Value of test-statistic is: 0.0954 \n",
       "\n",
       "Critical value for a significance level of: \n",
       "                10pct  5pct 2.5pct  1pct\n",
       "critical values 0.347 0.463  0.574 0.739\n"
      ]
     },
     "metadata": {},
     "output_type": "display_data"
    },
    {
     "data": {
      "text/plain": [
       "\n",
       "################################## \n",
       "# Phillips-Perron Unit Root Test # \n",
       "################################## \n",
       "\n",
       "Test regression with intercept \n",
       "\n",
       "\n",
       "Call:\n",
       "lm(formula = y ~ y.l1)\n",
       "\n",
       "Residuals:\n",
       "      Min        1Q    Median        3Q       Max \n",
       "-0.230951 -0.023625  0.005496  0.038821  0.162127 \n",
       "\n",
       "Coefficients:\n",
       "            Estimate Std. Error t value Pr(>|t|)  \n",
       "(Intercept)  0.02459    0.01252   1.964   0.0573 .\n",
       "y.l1         0.14885    0.16290   0.914   0.3669  \n",
       "---\n",
       "Signif. codes:  0 '***' 0.001 '**' 0.01 '*' 0.05 '.' 0.1 ' ' 1\n",
       "\n",
       "Residual standard error: 0.06988 on 36 degrees of freedom\n",
       "Multiple R-squared:  0.02267,\tAdjusted R-squared:  -0.004481 \n",
       "F-statistic: 0.8349 on 1 and 36 DF,  p-value: 0.3669\n",
       "\n",
       "\n",
       "Value of test-statistic, type: Z-alpha  is: -28.5833 \n",
       "\n",
       "         aux. Z statistics\n",
       "Z-tau-mu            1.9269\n"
      ]
     },
     "metadata": {},
     "output_type": "display_data"
    }
   ],
   "source": [
    "# df-test/pp-test的原假设是非平稳， kpss-test的原假设是平稳\n",
    "# 拒绝说明平稳，不拒绝说明不平稳\n",
    "summary(ur.df(fof)) #不拒绝\n",
    "summary(ur.kpss(fof)) # 拒绝\n",
    "summary(ur.pp(fof)) # 不拒绝\n",
    "\n",
    "summary(ur.df(diff(fof))) #拒绝\n",
    "summary(ur.kpss(diff(fof))) #不拒绝\n",
    "summary(ur.pp(diff(fof))) #拒绝\n",
    "\n",
    "summary(ur.df(log(fof),lags=3)) #不拒绝\n",
    "summary(ur.kpss(log(fof))) #拒绝\n",
    "summary(ur.pp(log(fof))) #不拒绝\n",
    "\n",
    "summary(ur.df(GR_fof)) #拒绝\n",
    "summary(ur.kpss(GR_fof)) #不拒绝\n",
    "summary(ur.pp(GR_fof)) #拒绝"
   ]
  },
  {
   "cell_type": "markdown",
   "metadata": {},
   "source": [
    "#### 协整1"
   ]
  },
  {
   "cell_type": "markdown",
   "metadata": {},
   "source": [
    " m1:   $fof$ **~** $retire$"
   ]
  },
  {
   "cell_type": "code",
   "execution_count": 16,
   "metadata": {
    "collapsed": true
   },
   "outputs": [
    {
     "name": "stdout",
     "output_type": "stream",
     "text": [
      "\n",
      "Call:\n",
      "lm(formula = fof ~ retire)\n",
      "\n",
      "Residuals:\n",
      "     Min       1Q   Median       3Q      Max \n",
      "-182.482  -26.622    1.348   38.330  145.811 \n",
      "\n",
      "Coefficients:\n",
      "              Estimate Std. Error t value Pr(>|t|)    \n",
      "(Intercept) -7.552e+02  5.632e+01  -13.41 5.51e-16 ***\n",
      "retire       1.524e-01  5.042e-03   30.22  < 2e-16 ***\n",
      "---\n",
      "Signif. codes:  0 '***' 0.001 '**' 0.01 '*' 0.05 '.' 0.1 ' ' 1\n",
      "\n",
      "Residual standard error: 74.18 on 38 degrees of freedom\n",
      "Multiple R-squared:  0.9601,\tAdjusted R-squared:  0.959 \n",
      "F-statistic: 913.5 on 1 and 38 DF,  p-value: < 2.2e-16\n",
      "\n"
     ]
    },
    {
     "data": {
      "image/png": "[encoded data removed]",
      "text/plain": [
       "plot without title"
      ]
     },
     "metadata": {},
     "output_type": "display_data"
    }
   ],
   "source": [
    "# 模型m1, 得到残差序列 r1\n",
    "# m1 = fof ~ retire\n",
    "m1 = lm(fof~retire)\n",
    "# r1 = m1$residuals\n",
    "r1 <- m1$residuals\n",
    "par(mfrow=c(1,1))\n",
    "plot(r1, xlab = 'time (seasonal)')\n",
    "# t = adf.test(resid, alternative = 'explosive')\n",
    "print(summary(m1))\n",
    "# print(t)"
   ]
  },
  {
   "cell_type": "code",
   "execution_count": 17,
   "metadata": {
    "collapsed": true
   },
   "outputs": [
    {
     "data": {
      "text/plain": [
       "\n",
       "############################################### \n",
       "# Augmented Dickey-Fuller Test Unit Root Test # \n",
       "############################################### \n",
       "\n",
       "Test regression none \n",
       "\n",
       "\n",
       "Call:\n",
       "lm(formula = z.diff ~ z.lag.1 - 1 + z.diff.lag)\n",
       "\n",
       "Residuals:\n",
       "    Min      1Q  Median      3Q     Max \n",
       "-79.277 -27.154   0.878  35.364 119.339 \n",
       "\n",
       "Coefficients:\n",
       "           Estimate Std. Error t value Pr(>|t|)   \n",
       "z.lag.1     -0.3536     0.1112   -3.18  0.00303 **\n",
       "z.diff.lag   0.1376     0.1547    0.89  0.37948   \n",
       "---\n",
       "Signif. codes:  0 '***' 0.001 '**' 0.01 '*' 0.05 '.' 0.1 ' ' 1\n",
       "\n",
       "Residual standard error: 45.54 on 36 degrees of freedom\n",
       "Multiple R-squared:  0.2193,\tAdjusted R-squared:  0.1759 \n",
       "F-statistic: 5.056 on 2 and 36 DF,  p-value: 0.01161\n",
       "\n",
       "\n",
       "Value of test-statistic is: -3.1799 \n",
       "\n",
       "Critical values for test statistics: \n",
       "      1pct  5pct 10pct\n",
       "tau1 -2.62 -1.95 -1.61\n"
      ]
     },
     "metadata": {},
     "output_type": "display_data"
    },
    {
     "data": {
      "text/plain": [
       "\n",
       "####################### \n",
       "# KPSS Unit Root Test # \n",
       "####################### \n",
       "\n",
       "Test is of type: mu with 3 lags. \n",
       "\n",
       "Value of test-statistic is: 0.2674 \n",
       "\n",
       "Critical value for a significance level of: \n",
       "                10pct  5pct 2.5pct  1pct\n",
       "critical values 0.347 0.463  0.574 0.739\n"
      ]
     },
     "metadata": {},
     "output_type": "display_data"
    },
    {
     "data": {
      "text/plain": [
       "\n",
       "################################## \n",
       "# Phillips-Perron Unit Root Test # \n",
       "################################## \n",
       "\n",
       "Test regression with intercept \n",
       "\n",
       "\n",
       "Call:\n",
       "lm(formula = y ~ y.l1)\n",
       "\n",
       "Residuals:\n",
       "    Min      1Q  Median      3Q     Max \n",
       "-90.241 -29.743  -1.644  27.651 116.425 \n",
       "\n",
       "Coefficients:\n",
       "            Estimate Std. Error t value Pr(>|t|)    \n",
       "(Intercept)    2.488      7.450   0.334     0.74    \n",
       "y.l1           0.722      0.103   7.006 2.78e-08 ***\n",
       "---\n",
       "Signif. codes:  0 '***' 0.001 '**' 0.01 '*' 0.05 '.' 0.1 ' ' 1\n",
       "\n",
       "Residual standard error: 46.51 on 37 degrees of freedom\n",
       "Multiple R-squared:  0.5702,\tAdjusted R-squared:  0.5586 \n",
       "F-statistic: 49.09 on 1 and 37 DF,  p-value: 2.78e-08\n",
       "\n",
       "\n",
       "Value of test-statistic, type: Z-alpha  is: -10.0379 \n",
       "\n",
       "         aux. Z statistics\n",
       "Z-tau-mu            0.3398\n"
      ]
     },
     "metadata": {},
     "output_type": "display_data"
    }
   ],
   "source": [
    "# 对残差序列进行 单位根检验\n",
    "summary(ur.df(r1)) #拒绝\n",
    "summary(ur.kpss(r1)) #不拒绝\n",
    "summary(ur.pp(r1)) #不拒绝\n",
    "\n",
    "# r1 可以认为是平稳的，说明二者之间存在协整关系。\n",
    "# 系数为 0.1524，则协整向量为 (1, -0.15)"
   ]
  },
  {
   "cell_type": "code",
   "execution_count": 18,
   "metadata": {
    "collapsed": false
   },
   "outputs": [
    {
     "data": {
      "text/plain": [
       "\n",
       "Time series regression with \"ts\" data:\n",
       "Start = 2007(3), End = 2016(4)\n",
       "\n",
       "Call:\n",
       "dynlm(formula = d1 ~ L(r1, 1) + L(d1, 1) + L(d2, 1) + L(d2, 0), \n",
       "    data = ecmdat1)\n",
       "\n",
       "Residuals:\n",
       "    Min      1Q  Median      3Q     Max \n",
       "-96.912 -16.156   2.919  18.399 145.465 \n",
       "\n",
       "Coefficients:\n",
       "            Estimate Std. Error t value Pr(>|t|)    \n",
       "(Intercept) 15.96621    7.49961   2.129   0.0408 *  \n",
       "L(r1, 1)    -0.19262    0.10476  -1.839   0.0750 .  \n",
       "L(d1, 1)    -0.36056    0.17486  -2.062   0.0472 *  \n",
       "L(d2, 1)     0.04243    0.02176   1.950   0.0598 .  \n",
       "L(d2, 0)     0.08738    0.01679   5.205 1.01e-05 ***\n",
       "---\n",
       "Signif. codes:  0 '***' 0.001 '**' 0.01 '*' 0.05 '.' 0.1 ' ' 1\n",
       "\n",
       "Residual standard error: 38.94 on 33 degrees of freedom\n",
       "Multiple R-squared:  0.5306,\tAdjusted R-squared:  0.4737 \n",
       "F-statistic: 9.326 on 4 and 33 DF,  p-value: 3.712e-05\n"
      ]
     },
     "metadata": {},
     "output_type": "display_data"
    },
    {
     "data": {
      "text/plain": [
       "\n",
       "############################################### \n",
       "# Augmented Dickey-Fuller Test Unit Root Test # \n",
       "############################################### \n",
       "\n",
       "Test regression none \n",
       "\n",
       "\n",
       "Call:\n",
       "lm(formula = z.diff ~ z.lag.1 - 1 + z.diff.lag)\n",
       "\n",
       "Residuals:\n",
       "    Min      1Q  Median      3Q     Max \n",
       "-93.998 -16.444   3.357  17.573 149.965 \n",
       "\n",
       "Coefficients:\n",
       "           Estimate Std. Error t value Pr(>|t|)    \n",
       "z.lag.1     -1.2364     0.2529  -4.889 2.39e-05 ***\n",
       "z.diff.lag   0.1597     0.1713   0.932    0.358    \n",
       "---\n",
       "Signif. codes:  0 '***' 0.001 '**' 0.01 '*' 0.05 '.' 0.1 ' ' 1\n",
       "\n",
       "Residual standard error: 37.04 on 34 degrees of freedom\n",
       "Multiple R-squared:  0.5287,\tAdjusted R-squared:  0.501 \n",
       "F-statistic: 19.07 on 2 and 34 DF,  p-value: 2.792e-06\n",
       "\n",
       "\n",
       "Value of test-statistic is: -4.8887 \n",
       "\n",
       "Critical values for test statistics: \n",
       "      1pct  5pct 10pct\n",
       "tau1 -2.62 -1.95 -1.61\n"
      ]
     },
     "metadata": {},
     "output_type": "display_data"
    },
    {
     "data": {
      "text/plain": [
       "\n",
       "####################### \n",
       "# KPSS Unit Root Test # \n",
       "####################### \n",
       "\n",
       "Test is of type: mu with 3 lags. \n",
       "\n",
       "Value of test-statistic is: 0.1403 \n",
       "\n",
       "Critical value for a significance level of: \n",
       "                10pct  5pct 2.5pct  1pct\n",
       "critical values 0.347 0.463  0.574 0.739\n"
      ]
     },
     "metadata": {},
     "output_type": "display_data"
    },
    {
     "data": {
      "text/plain": [
       "\n",
       "################################## \n",
       "# Phillips-Perron Unit Root Test # \n",
       "################################## \n",
       "\n",
       "Test regression with intercept \n",
       "\n",
       "\n",
       "Call:\n",
       "lm(formula = y ~ y.l1)\n",
       "\n",
       "Residuals:\n",
       "    Min      1Q  Median      3Q     Max \n",
       "-97.784 -16.026   1.094  16.323 145.357 \n",
       "\n",
       "Coefficients:\n",
       "            Estimate Std. Error t value Pr(>|t|)\n",
       "(Intercept)  1.28982    6.08410   0.212    0.833\n",
       "y.l1        -0.05841    0.17073  -0.342    0.734\n",
       "\n",
       "Residual standard error: 36.98 on 35 degrees of freedom\n",
       "Multiple R-squared:  0.003333,\tAdjusted R-squared:  -0.02514 \n",
       "F-statistic: 0.1171 on 1 and 35 DF,  p-value: 0.7343\n",
       "\n",
       "\n",
       "Value of test-statistic, type: Z-alpha  is: -35.038 \n",
       "\n",
       "         aux. Z statistics\n",
       "Z-tau-mu            0.2149\n"
      ]
     },
     "metadata": {},
     "output_type": "display_data"
    }
   ],
   "source": [
    "# bind the data\n",
    "d1 = diff(fof); d2 = diff(retire)\n",
    "r1 <- r1[1:39]\n",
    "ecmdat1 <- cbind(d1,d2, r1)\n",
    "\n",
    "# 建立ECM模型\n",
    "ecm1 <- dynlm(d1~ L(r1, 1)+ L(d1, 1)  + L(d2, 1) + L(d2,0), data = ecmdat1)\n",
    "summary(ecm1)\n",
    "\n",
    "# 对残差序列进行 单位根检验\n",
    "r_ecm1 <- ecm1$residuals\n",
    "summary(ur.df(r_ecm1)) #拒绝\n",
    "summary(ur.kpss(r_ecm1)) #不拒绝\n",
    "summary(ur.pp(r_ecm1)) #小于临界值"
   ]
  },
  {
   "cell_type": "markdown",
   "metadata": {},
   "source": [
    "#### 协整2"
   ]
  },
  {
   "cell_type": "markdown",
   "metadata": {},
   "source": [
    "m2: $log(fof)$**~**$log(retire)$"
   ]
  },
  {
   "cell_type": "code",
   "execution_count": 19,
   "metadata": {
    "collapsed": false
   },
   "outputs": [
    {
     "name": "stdout",
     "output_type": "stream",
     "text": [
      "\n",
      "Call:\n",
      "lm(formula = log(fof) ~ log(retire))\n",
      "\n",
      "Residuals:\n",
      "     Min       1Q   Median       3Q      Max \n",
      "-0.29386 -0.02488  0.01774  0.06694  0.18403 \n",
      "\n",
      "Coefficients:\n",
      "             Estimate Std. Error t value Pr(>|t|)    \n",
      "(Intercept) -10.93630    0.76678  -14.26   <2e-16 ***\n",
      "log(retire)   1.90423    0.08264   23.04   <2e-16 ***\n",
      "---\n",
      "Signif. codes:  0 '***' 0.001 '**' 0.01 '*' 0.05 '.' 0.1 ' ' 1\n",
      "\n",
      "Residual standard error: 0.1122 on 38 degrees of freedom\n",
      "Multiple R-squared:  0.9332,\tAdjusted R-squared:  0.9315 \n",
      "F-statistic: 530.9 on 1 and 38 DF,  p-value: < 2.2e-16\n",
      "\n"
     ]
    },
    {
     "data": {
      "image/png": "[encoded data removed]",
      "text/plain": [
       "plot without title"
      ]
     },
     "metadata": {},
     "output_type": "display_data"
    }
   ],
   "source": [
    "# 模型m2, 得到残差序列 r2\n",
    "# m2 = log(fof)~ log(retire)\n",
    "m2 = lm(log(fof)~log(retire))\n",
    "r2 <- m2$residuals\n",
    "par(mfrow=c(1,1))\n",
    "plot(r2, xlab = 'time (seasonal)')\n",
    "# t = adf.test(resid, alternative = 'explosive')\n",
    "print(summary(m2))"
   ]
  },
  {
   "cell_type": "code",
   "execution_count": 20,
   "metadata": {
    "collapsed": false
   },
   "outputs": [
    {
     "data": {
      "text/plain": [
       "\n",
       "############################################### \n",
       "# Augmented Dickey-Fuller Test Unit Root Test # \n",
       "############################################### \n",
       "\n",
       "Test regression none \n",
       "\n",
       "\n",
       "Call:\n",
       "lm(formula = z.diff ~ z.lag.1 - 1 + z.diff.lag)\n",
       "\n",
       "Residuals:\n",
       "      Min        1Q    Median        3Q       Max \n",
       "-0.076909 -0.026001  0.005282  0.033501  0.121643 \n",
       "\n",
       "Coefficients:\n",
       "           Estimate Std. Error t value Pr(>|t|)   \n",
       "z.lag.1    -0.24276    0.08221  -2.953  0.00551 **\n",
       "z.diff.lag  0.03700    0.15062   0.246  0.80736   \n",
       "---\n",
       "Signif. codes:  0 '***' 0.001 '**' 0.01 '*' 0.05 '.' 0.1 ' ' 1\n",
       "\n",
       "Residual standard error: 0.05085 on 36 degrees of freedom\n",
       "Multiple R-squared:  0.195,\tAdjusted R-squared:  0.1503 \n",
       "F-statistic:  4.36 on 2 and 36 DF,  p-value: 0.02015\n",
       "\n",
       "\n",
       "Value of test-statistic is: -2.9529 \n",
       "\n",
       "Critical values for test statistics: \n",
       "      1pct  5pct 10pct\n",
       "tau1 -2.62 -1.95 -1.61\n"
      ]
     },
     "metadata": {},
     "output_type": "display_data"
    },
    {
     "data": {
      "text/plain": [
       "\n",
       "####################### \n",
       "# KPSS Unit Root Test # \n",
       "####################### \n",
       "\n",
       "Test is of type: mu with 3 lags. \n",
       "\n",
       "Value of test-statistic is: 0.3091 \n",
       "\n",
       "Critical value for a significance level of: \n",
       "                10pct  5pct 2.5pct  1pct\n",
       "critical values 0.347 0.463  0.574 0.739\n"
      ]
     },
     "metadata": {},
     "output_type": "display_data"
    },
    {
     "data": {
      "text/plain": [
       "\n",
       "################################## \n",
       "# Phillips-Perron Unit Root Test # \n",
       "################################## \n",
       "\n",
       "Test regression with intercept \n",
       "\n",
       "\n",
       "Call:\n",
       "lm(formula = y ~ y.l1)\n",
       "\n",
       "Residuals:\n",
       "     Min       1Q   Median       3Q      Max \n",
       "-0.08296 -0.03477  0.00343  0.02463  0.11447 \n",
       "\n",
       "Coefficients:\n",
       "            Estimate Std. Error t value Pr(>|t|)    \n",
       "(Intercept) 0.005773   0.008093   0.713     0.48    \n",
       "y.l1        0.792254   0.073635  10.759 6.01e-13 ***\n",
       "---\n",
       "Signif. codes:  0 '***' 0.001 '**' 0.01 '*' 0.05 '.' 0.1 ' ' 1\n",
       "\n",
       "Residual standard error: 0.05053 on 37 degrees of freedom\n",
       "Multiple R-squared:  0.7578,\tAdjusted R-squared:  0.7512 \n",
       "F-statistic: 115.8 on 1 and 37 DF,  p-value: 6.014e-13\n",
       "\n",
       "\n",
       "Value of test-statistic, type: Z-alpha  is: -7.611 \n",
       "\n",
       "         aux. Z statistics\n",
       "Z-tau-mu             0.741\n"
      ]
     },
     "metadata": {},
     "output_type": "display_data"
    }
   ],
   "source": [
    "# 对残差序列进行 单位根检验\n",
    "summary(ur.df(r2)) #拒绝\n",
    "summary(ur.kpss(r2)) #不拒绝\n",
    "summary(ur.pp(r2)) #拒绝\n",
    "\n",
    "# r2 可以认为是平稳的，说明二者之间存在协整关系。\n",
    "# 系数为 1.90423 ，则协整向量为 (1, -1.9)"
   ]
  },
  {
   "cell_type": "code",
   "execution_count": 21,
   "metadata": {
    "collapsed": false
   },
   "outputs": [],
   "source": [
    "# bind the data\n",
    "r2 <- r2[1:39]\n",
    "ecmdat2 <- cbind(GR_fof,GR_retire, r2)"
   ]
  },
  {
   "cell_type": "code",
   "execution_count": 22,
   "metadata": {
    "collapsed": false
   },
   "outputs": [
    {
     "data": {
      "text/plain": [
       "\n",
       "Time series regression with \"ts\" data:\n",
       "Start = 2007(3), End = 2016(4)\n",
       "\n",
       "Call:\n",
       "dynlm(formula = GR_fof ~ L(r2, 1) + L(GR_fof, 1) + L(GR_retire, \n",
       "    1) + L(GR_retire, 0), data = ecmdat2)\n",
       "\n",
       "Residuals:\n",
       "      Min        1Q    Median        3Q       Max \n",
       "-0.088834 -0.023098 -0.001931  0.023389  0.122996 \n",
       "\n",
       "Coefficients:\n",
       "                 Estimate Std. Error t value Pr(>|t|)    \n",
       "(Intercept)      0.016125   0.007709   2.092   0.0442 *  \n",
       "L(r2, 1)        -0.133207   0.072946  -1.826   0.0769 .  \n",
       "L(GR_fof, 1)    -0.277166   0.174325  -1.590   0.1214    \n",
       "L(GR_retire, 1)  0.543331   0.263426   2.063   0.0471 *  \n",
       "L(GR_retire, 0)  1.199106   0.161462   7.427 1.56e-08 ***\n",
       "---\n",
       "Signif. codes:  0 '***' 0.001 '**' 0.01 '*' 0.05 '.' 0.1 ' ' 1\n",
       "\n",
       "Residual standard error: 0.04163 on 33 degrees of freedom\n",
       "Multiple R-squared:  0.6821,\tAdjusted R-squared:  0.6435 \n",
       "F-statistic:  17.7 on 4 and 33 DF,  p-value: 7.532e-08\n"
      ]
     },
     "metadata": {},
     "output_type": "display_data"
    },
    {
     "data": {
      "text/plain": [
       "\n",
       "############################################### \n",
       "# Augmented Dickey-Fuller Test Unit Root Test # \n",
       "############################################### \n",
       "\n",
       "Test regression none \n",
       "\n",
       "\n",
       "Call:\n",
       "lm(formula = z.diff ~ z.lag.1 - 1 + z.diff.lag)\n",
       "\n",
       "Residuals:\n",
       "      Min        1Q    Median        3Q       Max \n",
       "-0.087779 -0.023693 -0.001953  0.023203  0.124330 \n",
       "\n",
       "Coefficients:\n",
       "           Estimate Std. Error t value Pr(>|t|)    \n",
       "z.lag.1    -1.05327    0.25083  -4.199 0.000182 ***\n",
       "z.diff.lag  0.06222    0.17386   0.358 0.722653    \n",
       "---\n",
       "Signif. codes:  0 '***' 0.001 '**' 0.01 '*' 0.05 '.' 0.1 ' ' 1\n",
       "\n",
       "Residual standard error: 0.04018 on 34 degrees of freedom\n",
       "Multiple R-squared:  0.4859,\tAdjusted R-squared:  0.4557 \n",
       "F-statistic: 16.07 on 2 and 34 DF,  p-value: 1.223e-05\n",
       "\n",
       "\n",
       "Value of test-statistic is: -4.1991 \n",
       "\n",
       "Critical values for test statistics: \n",
       "      1pct  5pct 10pct\n",
       "tau1 -2.62 -1.95 -1.61\n"
      ]
     },
     "metadata": {},
     "output_type": "display_data"
    },
    {
     "data": {
      "text/plain": [
       "\n",
       "####################### \n",
       "# KPSS Unit Root Test # \n",
       "####################### \n",
       "\n",
       "Test is of type: mu with 3 lags. \n",
       "\n",
       "Value of test-statistic is: 0.4097 \n",
       "\n",
       "Critical value for a significance level of: \n",
       "                10pct  5pct 2.5pct  1pct\n",
       "critical values 0.347 0.463  0.574 0.739\n"
      ]
     },
     "metadata": {},
     "output_type": "display_data"
    },
    {
     "data": {
      "text/plain": [
       "\n",
       "################################## \n",
       "# Phillips-Perron Unit Root Test # \n",
       "################################## \n",
       "\n",
       "Test regression with intercept \n",
       "\n",
       "\n",
       "Call:\n",
       "lm(formula = y ~ y.l1)\n",
       "\n",
       "Residuals:\n",
       "     Min       1Q   Median       3Q      Max \n",
       "-0.08988 -0.02382  0.00013  0.02284  0.12216 \n",
       "\n",
       "Coefficients:\n",
       "             Estimate Std. Error t value Pr(>|t|)\n",
       "(Intercept)  0.000986   0.006572   0.150    0.882\n",
       "y.l1        -0.008681   0.171793  -0.051    0.960\n",
       "\n",
       "Residual standard error: 0.03995 on 35 degrees of freedom\n",
       "Multiple R-squared:  7.295e-05,\tAdjusted R-squared:  -0.0285 \n",
       "F-statistic: 0.002553 on 1 and 35 DF,  p-value: 0.96\n",
       "\n",
       "\n",
       "Value of test-statistic, type: Z-alpha  is: -36.426 \n",
       "\n",
       "         aux. Z statistics\n",
       "Z-tau-mu              0.15\n"
      ]
     },
     "metadata": {},
     "output_type": "display_data"
    }
   ],
   "source": [
    "# 建立ECM模型\n",
    "ecm2 <- dynlm(GR_fof~ L(r2, 1)+ L(GR_fof, 1)  + L(GR_retire, 1) + L(GR_retire,0), data = ecmdat2)\n",
    "summary(ecm2)\n",
    "\n",
    "# 对残差序列进行 单位根检验\n",
    "r_ecm2 <- ecm2$residuals\n",
    "summary(ur.df(r_ecm2)) #拒绝\n",
    "summary(ur.kpss(r_ecm2)) #不拒绝\n",
    "summary(ur.pp(r_ecm2)) #小于临界值"
   ]
  },
  {
   "cell_type": "markdown",
   "metadata": {},
   "source": [
    "#### 协整3"
   ]
  },
  {
   "cell_type": "code",
   "execution_count": 23,
   "metadata": {
    "collapsed": false
   },
   "outputs": [
    {
     "data": {
      "text/plain": [
       "\n",
       "###################### \n",
       "# Johansen-Procedure # \n",
       "###################### \n",
       "\n",
       "Test type: maximal eigenvalue statistic (lambda max) , with linear trend \n",
       "\n",
       "Eigenvalues (lambda):\n",
       "[1] 0.3922693 0.3405903\n",
       "\n",
       "Values of teststatistic and critical values of test:\n",
       "\n",
       "          test 10pct  5pct  1pct\n",
       "r <= 1 | 15.41  6.50  8.18 11.65\n",
       "r = 0  | 18.43 12.91 14.90 19.19\n",
       "\n",
       "Eigenvectors, normalised to first column:\n",
       "(These are the cointegration relations)\n",
       "\n",
       "              fof.l1 retire.l1\n",
       "fof.l1     1.0000000  1.000000\n",
       "retire.l1 -0.8210015 -2.489989\n",
       "\n",
       "Weights W:\n",
       "(This is the loading matrix)\n",
       "\n",
       "             fof.l1 retire.l1\n",
       "fof.d    -1.6478304 0.2120447\n",
       "retire.d -0.6892145 0.4689056\n"
      ]
     },
     "metadata": {},
     "output_type": "display_data"
    },
    {
     "data": {
      "text/html": [
       "<table>\n",
       "<thead><tr><th></th><th scope=col>fof.l1</th><th scope=col>retire.l1</th></tr></thead>\n",
       "<tbody>\n",
       "\t<tr><th scope=row>fof.l1</th><td> 1.0000000</td><td> 1.000000 </td></tr>\n",
       "\t<tr><th scope=row>retire.l1</th><td>-0.8210015</td><td>-2.489989 </td></tr>\n",
       "</tbody>\n",
       "</table>\n"
      ],
      "text/latex": [
       "\\begin{tabular}{r|ll}\n",
       "  & fof.l1 & retire.l1\\\\\n",
       "\\hline\n",
       "\tfof.l1 &  1.0000000 &  1.000000 \\\\\n",
       "\tretire.l1 & -0.8210015 & -2.489989 \\\\\n",
       "\\end{tabular}\n"
      ],
      "text/markdown": [
       "\n",
       "| <!--/--> | fof.l1 | retire.l1 | \n",
       "|---|---|\n",
       "| fof.l1 |  1.0000000 |  1.000000  | \n",
       "| retire.l1 | -0.8210015 | -2.489989  | \n",
       "\n",
       "\n"
      ],
      "text/plain": [
       "          fof.l1     retire.l1\n",
       "fof.l1     1.0000000  1.000000\n",
       "retire.l1 -0.8210015 -2.489989"
      ]
     },
     "metadata": {},
     "output_type": "display_data"
    }
   ],
   "source": [
    "d1 = GR_fof\n",
    "d2 = GR_retire\n",
    "d = data.frame(d1,d2)\n",
    "m3 = ca.jo(d, type=\"eigen\", ecdet=\"none\", K=2,season = 4, spec=\"transitory\")\n",
    "summary(m3)\n",
    "# 协整向量\n",
    "m3@V"
   ]
  },
  {
   "cell_type": "code",
   "execution_count": 24,
   "metadata": {
    "collapsed": false
   },
   "outputs": [
    {
     "data": {
      "text/plain": [
       "\n",
       "###################### \n",
       "# Johansen-Procedure # \n",
       "###################### \n",
       "\n",
       "Test type: maximal eigenvalue statistic (lambda max) , with linear trend \n",
       "\n",
       "Eigenvalues (lambda):\n",
       "[1] 0.25620098 0.08283457\n",
       "\n",
       "Values of teststatistic and critical values of test:\n",
       "\n",
       "          test 10pct  5pct  1pct\n",
       "r <= 1 |  3.29  6.50  8.18 11.65\n",
       "r = 0  | 11.25 12.91 14.90 19.19\n",
       "\n",
       "Eigenvectors, normalised to first column:\n",
       "(These are the cointegration relations)\n",
       "\n",
       "             fof.l1 retire.l1\n",
       "fof.l1     1.000000  1.000000\n",
       "retire.l1 -1.678747 -3.021223\n",
       "\n",
       "Weights W:\n",
       "(This is the loading matrix)\n",
       "\n",
       "             fof.l1  retire.l1\n",
       "fof.d    -0.0107555 0.07325991\n",
       "retire.d  0.1267081 0.04159619\n"
      ]
     },
     "metadata": {},
     "output_type": "display_data"
    },
    {
     "data": {
      "text/html": [
       "<table>\n",
       "<thead><tr><th></th><th scope=col>fof.l1</th><th scope=col>retire.l1</th></tr></thead>\n",
       "<tbody>\n",
       "\t<tr><th scope=row>fof.l1</th><td> 1.000000</td><td> 1.000000</td></tr>\n",
       "\t<tr><th scope=row>retire.l1</th><td>-1.678747</td><td>-3.021223</td></tr>\n",
       "</tbody>\n",
       "</table>\n"
      ],
      "text/latex": [
       "\\begin{tabular}{r|ll}\n",
       "  & fof.l1 & retire.l1\\\\\n",
       "\\hline\n",
       "\tfof.l1 &  1.000000 &  1.000000\\\\\n",
       "\tretire.l1 & -1.678747 & -3.021223\\\\\n",
       "\\end{tabular}\n"
      ],
      "text/markdown": [
       "\n",
       "| <!--/--> | fof.l1 | retire.l1 | \n",
       "|---|---|\n",
       "| fof.l1 |  1.000000 |  1.000000 | \n",
       "| retire.l1 | -1.678747 | -3.021223 | \n",
       "\n",
       "\n"
      ],
      "text/plain": [
       "          fof.l1    retire.l1\n",
       "fof.l1     1.000000  1.000000\n",
       "retire.l1 -1.678747 -3.021223"
      ]
     },
     "metadata": {},
     "output_type": "display_data"
    }
   ],
   "source": [
    "d1 = log(fof)\n",
    "d2 = log(retire)\n",
    "d = data.frame(d1,d2)\n",
    "m3 = ca.jo(d, type=\"eigen\", ecdet=\"none\", K=2,season = 4, spec=\"transitory\")\n",
    "summary(m3)\n",
    "# 协整向量\n",
    "m3@V"
   ]
  }
 ],
 "metadata": {
  "kernelspec": {
   "display_name": "R 3.4",
   "language": "R",
   "name": "ir3r"
  },
  "language_info": {
   "codemirror_mode": "r",
   "file_extension": ".r",
   "mimetype": "text/x-r-source",
   "name": "R",
   "pygments_lexer": "r",
   "version": "3.4.0"
  }
 },
 "nbformat": 4,
 "nbformat_minor": 2
}
