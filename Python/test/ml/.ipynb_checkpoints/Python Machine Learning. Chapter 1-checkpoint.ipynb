{
 "cells": [
  {
   "cell_type": "markdown",
   "metadata": {},
   "source": [
    "+ The general concepts of machine learning;\n",
    "+ The three types of learning and basic terminology;\n",
    "+ The building blocks for successfully designing machine learning systems\n",
    "+ Installing and setting up Python for data analysis and machine learning"
   ]
  },
  {
   "cell_type": "markdown",
   "metadata": {},
   "source": [
    "+ **Supervised Learning**: the desired output signals (labels) are already known. \n",
    "+ **Reinforcement Learning**:  \n",
    "+ **Unsupervised Learning**: "
   ]
  },
  {
   "cell_type": "markdown",
   "metadata": {},
   "source": [
    "$\\alpha$"
   ]
  }
 ],
 "metadata": {
  "kernelspec": {
   "display_name": "Python 3",
   "language": "python",
   "name": "python3"
  },
  "language_info": {
   "codemirror_mode": {
    "name": "ipython",
    "version": 3
   },
   "file_extension": ".py",
   "mimetype": "text/x-python",
   "name": "python",
   "nbconvert_exporter": "python",
   "pygments_lexer": "ipython3",
   "version": "3.6.0"
  }
 },
 "nbformat": 4,
 "nbformat_minor": 2
}
