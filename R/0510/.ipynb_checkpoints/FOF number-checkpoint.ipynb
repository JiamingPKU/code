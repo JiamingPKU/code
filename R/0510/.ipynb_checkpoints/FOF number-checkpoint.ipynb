{
 "cells": [
  {
   "cell_type": "markdown",
   "metadata": {},
   "source": [
    "#  Number"
   ]
  },
  {
   "cell_type": "code",
   "execution_count": 80,
   "metadata": {
    "collapsed": false
   },
   "outputs": [
    {
     "data": {
      "text/html": [
       "'F:/git/R/0510'"
      ],
      "text/latex": [
       "'F:/git/R/0510'"
      ],
      "text/markdown": [
       "'F:/git/R/0510'"
      ],
      "text/plain": [
       "[1] \"F:/git/R/0510\""
      ]
     },
     "metadata": {},
     "output_type": "display_data"
    },
    {
     "data": {
      "text/html": [
       "<ol>\n",
       "\t<li>TRUE</li>\n",
       "\t<li>TRUE</li>\n",
       "\t<li>TRUE</li>\n",
       "\t<li>TRUE</li>\n",
       "\t<li>TRUE</li>\n",
       "\t<li>TRUE</li>\n",
       "</ol>\n"
      ],
      "text/latex": [
       "\\begin{enumerate}\n",
       "\\item TRUE\n",
       "\\item TRUE\n",
       "\\item TRUE\n",
       "\\item TRUE\n",
       "\\item TRUE\n",
       "\\item TRUE\n",
       "\\end{enumerate}\n"
      ],
      "text/markdown": [
       "1. TRUE\n",
       "2. TRUE\n",
       "3. TRUE\n",
       "4. TRUE\n",
       "5. TRUE\n",
       "6. TRUE\n",
       "\n",
       "\n"
      ],
      "text/plain": [
       "[[1]]\n",
       "[1] TRUE\n",
       "\n",
       "[[2]]\n",
       "[1] TRUE\n",
       "\n",
       "[[3]]\n",
       "[1] TRUE\n",
       "\n",
       "[[4]]\n",
       "[1] TRUE\n",
       "\n",
       "[[5]]\n",
       "[1] TRUE\n",
       "\n",
       "[[6]]\n",
       "[1] TRUE\n"
      ]
     },
     "metadata": {},
     "output_type": "display_data"
    }
   ],
   "source": [
    "getwd()\n",
    "x=c(\"readxl\",\"TSA\",\"forecast\", \"FinTS\",\"e1071\",\"fGarch\")\n",
    "lapply(x, require, character.only = T)\n",
    "rm(list=ls())\n",
    "\n",
    "data = read_excel(\"API.xlsx\")\n",
    "num = data[2] # num represents number of FOF\n",
    "num = ts(num, frequency = 12,start = c(1995,1)) # number of FOF"
   ]
  },
  {
   "cell_type": "markdown",
   "metadata": {},
   "source": [
    "初步观测数据情况（数量和它的增长率）"
   ]
  },
  {
   "cell_type": "code",
   "execution_count": 86,
   "metadata": {
    "collapsed": false,
    "scrolled": true
   },
   "outputs": [
    {
     "name": "stdout",
     "output_type": "stream",
     "text": [
      "[1] \"数量描述统计\"\n"
     ]
    },
    {
     "data": {
      "text/html": [
       "<table>\n",
       "<thead><tr><th scope=col>Start</th><th scope=col>Size</th><th scope=col>Mean</th><th scope=col>Standard.Deviation</th><th scope=col>Skewness</th><th scope=col>Excess.Kurtosis</th><th scope=col>Minimum</th><th scope=col>Maximum</th></tr></thead>\n",
       "<tbody>\n",
       "\t<tr><td>1995      </td><td>269       </td><td>467605.4  </td><td>499846.9  </td><td>0.7743631 </td><td>-0.8185705</td><td>3891.54   </td><td>1531286   </td></tr>\n",
       "</tbody>\n",
       "</table>\n"
      ],
      "text/latex": [
       "\\begin{tabular}{r|llllllll}\n",
       " Start & Size & Mean & Standard.Deviation & Skewness & Excess.Kurtosis & Minimum & Maximum\\\\\n",
       "\\hline\n",
       "\t 1995       & 269        & 467605.4   & 499846.9   & 0.7743631  & -0.8185705 & 3891.54    & 1531286   \\\\\n",
       "\\end{tabular}\n"
      ],
      "text/markdown": [
       "\n",
       "Start | Size | Mean | Standard.Deviation | Skewness | Excess.Kurtosis | Minimum | Maximum | \n",
       "|---|\n",
       "| 1995       | 269        | 467605.4   | 499846.9   | 0.7743631  | -0.8185705 | 3891.54    | 1531286    | \n",
       "\n",
       "\n"
      ],
      "text/plain": [
       "  Start Size Mean     Standard.Deviation Skewness  Excess.Kurtosis Minimum\n",
       "1 1995  269  467605.4 499846.9           0.7743631 -0.8185705      3891.54\n",
       "  Maximum\n",
       "1 1531286"
      ]
     },
     "metadata": {},
     "output_type": "display_data"
    },
    {
     "name": "stdout",
     "output_type": "stream",
     "text": [
      "[1] \"增长率描述统计\"\n"
     ]
    },
    {
     "data": {
      "text/html": [
       "<table>\n",
       "<thead><tr><th scope=col>Start</th><th scope=col>Size</th><th scope=col>Mean</th><th scope=col>Standard.Deviation</th><th scope=col>Skewness</th><th scope=col>Excess.Kurtosis</th><th scope=col>Minimum</th><th scope=col>Maximum</th></tr></thead>\n",
       "<tbody>\n",
       "\t<tr><td>1995.083 </td><td>268      </td><td>2.229456 </td><td>5.950425 </td><td>7.386835 </td><td>88.66687 </td><td>-13.68436</td><td>76.26525 </td></tr>\n",
       "</tbody>\n",
       "</table>\n"
      ],
      "text/latex": [
       "\\begin{tabular}{r|llllllll}\n",
       " Start & Size & Mean & Standard.Deviation & Skewness & Excess.Kurtosis & Minimum & Maximum\\\\\n",
       "\\hline\n",
       "\t 1995.083  & 268       & 2.229456  & 5.950425  & 7.386835  & 88.66687  & -13.68436 & 76.26525 \\\\\n",
       "\\end{tabular}\n"
      ],
      "text/markdown": [
       "\n",
       "Start | Size | Mean | Standard.Deviation | Skewness | Excess.Kurtosis | Minimum | Maximum | \n",
       "|---|\n",
       "| 1995.083  | 268       | 2.229456  | 5.950425  | 7.386835  | 88.66687  | -13.68436 | 76.26525  | \n",
       "\n",
       "\n"
      ],
      "text/plain": [
       "  Start    Size Mean     Standard.Deviation Skewness Excess.Kurtosis Minimum  \n",
       "1 1995.083 268  2.229456 5.950425           7.386835 88.66687        -13.68436\n",
       "  Maximum \n",
       "1 76.26525"
      ]
     },
     "metadata": {},
     "output_type": "display_data"
    },
    {
     "data": {
      "image/png": "[encoded data removed]",
      "text/plain": [
       "Plot with title \"Series  GR_num\""
      ]
     },
     "metadata": {},
     "output_type": "display_data"
    }
   ],
   "source": [
    "# 生成增长率数据\n",
    "GR_num = diff(log(num)) # growth ratio of total net asset\n",
    "GR_num = ts(GR_num * 100, frequency = 12,start = c(1995,2), names = 'GR_num')\n",
    "\n",
    "print(\"数量描述统计\")\n",
    "FinTS.stats(num)\n",
    "print(\"增长率描述统计\")\n",
    "FinTS.stats(GR_num)\n",
    "\n",
    "par(mfrow = c(2,2))\n",
    "plot(num)\n",
    "plot(GR_num)\n",
    "\n",
    "acf(GR_num)\n",
    "pacf(GR_num )"
   ]
  },
  {
   "cell_type": "markdown",
   "metadata": {},
   "source": [
    "进行ADF检验，数量是非平稳的，而数量的增长率是平稳的"
   ]
  },
  {
   "cell_type": "code",
   "execution_count": 87,
   "metadata": {
    "collapsed": false
   },
   "outputs": [
    {
     "data": {
      "text/plain": [
       "\n",
       "\tAugmented Dickey-Fuller Test\n",
       "\n",
       "data:  num\n",
       "Dickey-Fuller = -1.4307, Lag order = 6, p-value = 0.8158\n",
       "alternative hypothesis: stationary\n"
      ]
     },
     "metadata": {},
     "output_type": "display_data"
    },
    {
     "name": "stderr",
     "output_type": "stream",
     "text": [
      "Warning message in adf.test(GR_num):\n",
      "\"p-value smaller than printed p-value\""
     ]
    },
    {
     "data": {
      "text/plain": [
       "\n",
       "\tAugmented Dickey-Fuller Test\n",
       "\n",
       "data:  GR_num\n",
       "Dickey-Fuller = -4.9254, Lag order = 6, p-value = 0.01\n",
       "alternative hypothesis: stationary\n"
      ]
     },
     "metadata": {},
     "output_type": "display_data"
    }
   ],
   "source": [
    "adf.test(num)\n",
    "adf.test(GR_num)"
   ]
  },
  {
   "cell_type": "markdown",
   "metadata": {},
   "source": [
    "进行ARIMA建模，Q统计量显著(p值很小),说明拒绝了白噪声的假设"
   ]
  },
  {
   "cell_type": "code",
   "execution_count": 91,
   "metadata": {
    "collapsed": false,
    "scrolled": true
   },
   "outputs": [
    {
     "name": "stdout",
     "output_type": "stream",
     "text": [
      "Series: GR_num \n",
      "ARIMA(0,0,0) with non-zero mean \n",
      "\n",
      "Coefficients:\n",
      "        mean\n",
      "      2.2295\n",
      "s.e.  0.3628\n",
      "\n",
      "sigma^2 estimated as 35.41:  log likelihood=-857.74\n",
      "AIC=1719.49   AICc=1719.53   BIC=1726.67\n"
     ]
    }
   ],
   "source": [
    "m = auto.arima(GR_num, max.d = 0) #ARIMA(2,0,2)(1,0,2)[12]\n",
    "print(m)\n",
    "\n",
    "r = m$residuals\n",
    "t = Box.test(r, lag = 24, type = 'Ljung-Box', fitdf = 7)\n",
    "# print(t)\n",
    "# print(t$p.value) #0.159\n",
    "# ts.plot(r)"
   ]
  },
  {
   "cell_type": "markdown",
   "metadata": {},
   "source": [
    "考虑季节性进行建模"
   ]
  },
  {
   "cell_type": "code",
   "execution_count": 92,
   "metadata": {
    "collapsed": false
   },
   "outputs": [
    {
     "name": "stdout",
     "output_type": "stream",
     "text": [
      "Series: GR_num \n",
      "ARIMA(0,0,0) with non-zero mean \n",
      "\n",
      "Coefficients:\n",
      "        mean\n",
      "      2.2295\n",
      "s.e.  0.3628\n",
      "\n",
      "sigma^2 estimated as 35.41:  log likelihood=-857.74\n",
      "AIC=1719.49   AICc=1719.53   BIC=1726.67\n"
     ]
    }
   ],
   "source": [
    "m2 = auto.arima(GR_num, seasonal = TRUE, max.d =0)\n",
    "print(m2)"
   ]
  },
  {
   "cell_type": "markdown",
   "metadata": {},
   "source": [
    "对未来的预期"
   ]
  },
  {
   "cell_type": "code",
   "execution_count": 33,
   "metadata": {
    "collapsed": true
   },
   "outputs": [
    {
     "name": "stdout",
     "output_type": "stream",
     "text": [
      "         Point Forecast     Lo 80    Hi 80     Lo 90    Hi 90     Lo 95\n",
      "Jun 2017       2.229456 -5.396321 9.855232 -7.558122 12.01703 -9.433163\n",
      "Jul 2017       2.229456 -5.396321 9.855232 -7.558122 12.01703 -9.433163\n",
      "Aug 2017       2.229456 -5.396321 9.855232 -7.558122 12.01703 -9.433163\n",
      "Sep 2017       2.229456 -5.396321 9.855232 -7.558122 12.01703 -9.433163\n",
      "Oct 2017       2.229456 -5.396321 9.855232 -7.558122 12.01703 -9.433163\n",
      "Nov 2017       2.229456 -5.396321 9.855232 -7.558122 12.01703 -9.433163\n",
      "Dec 2017       2.229456 -5.396321 9.855232 -7.558122 12.01703 -9.433163\n",
      "Jan 2018       2.229456 -5.396321 9.855232 -7.558122 12.01703 -9.433163\n",
      "Feb 2018       2.229456 -5.396321 9.855232 -7.558122 12.01703 -9.433163\n",
      "Mar 2018       2.229456 -5.396321 9.855232 -7.558122 12.01703 -9.433163\n",
      "Apr 2018       2.229456 -5.396321 9.855232 -7.558122 12.01703 -9.433163\n",
      "May 2018       2.229456 -5.396321 9.855232 -7.558122 12.01703 -9.433163\n",
      "            Hi 95\n",
      "Jun 2017 13.89207\n",
      "Jul 2017 13.89207\n",
      "Aug 2017 13.89207\n",
      "Sep 2017 13.89207\n",
      "Oct 2017 13.89207\n",
      "Nov 2017 13.89207\n",
      "Dec 2017 13.89207\n",
      "Jan 2018 13.89207\n",
      "Feb 2018 13.89207\n",
      "Mar 2018 13.89207\n",
      "Apr 2018 13.89207\n",
      "May 2018 13.89207\n"
     ]
    },
    {
     "data": {
      "image/png": "[encoded data removed]",
      "text/plain": [
       "Plot with title \"Forecasts from ARIMA(0,0,0) with non-zero mean\""
      ]
     },
     "metadata": {},
     "output_type": "display_data"
    }
   ],
   "source": [
    "future = forecast.Arima(m, h = 12, level = c(80,90,95))\n",
    "print(future)\n",
    "par(mfrow=c(1,1))\n",
    "plot(future)"
   ]
  },
  {
   "cell_type": "markdown",
   "metadata": {},
   "source": [
    "### 检验ARCH效应"
   ]
  },
  {
   "cell_type": "code",
   "execution_count": 125,
   "metadata": {
    "collapsed": true
   },
   "outputs": [
    {
     "name": "stdout",
     "output_type": "stream",
     "text": [
      "\n",
      " ***** ESTIMATION WITH ANALYTICAL GRADIENT ***** \n",
      "\n",
      "\n",
      "     I     INITIAL X(I)        D(I)\n",
      "\n",
      "     1     1.133891e-04     1.000e+00\n",
      "     2     5.000000e-02     1.000e+00\n",
      "     3     5.000000e-02     1.000e+00\n",
      "\n",
      "    IT   NF      F         RELDF    PRELDF    RELDX   STPPAR   D*STEP   NPRELDF\n",
      "     0    1 -1.071e+03\n",
      "     1    7 -1.072e+03  3.44e-04  7.38e-04  1.0e-04  7.9e+09  1.0e-05  2.92e+06\n",
      "     2    8 -1.072e+03  6.39e-06  9.59e-06  9.9e-05  2.0e+00  1.0e-05  2.96e+00\n",
      "     3   16 -1.076e+03  3.60e-03  6.97e-03  4.8e-01  2.0e+00  9.4e-02  2.95e+00\n",
      "     4   18 -1.076e+03  3.61e-04  4.71e-04  3.3e-02  2.0e+00  9.4e-03  1.59e-02\n",
      "     5   21 -1.076e+03  1.73e-04  1.80e-04  1.2e-01  1.9e+00  3.5e-02  1.25e-02\n",
      "     6   24 -1.076e+03  3.27e-06  3.27e-06  2.4e-03  2.0e+00  7.1e-04  3.81e-03\n",
      "     7   26 -1.076e+03  6.46e-06  6.48e-06  4.8e-03  2.0e+00  1.4e-03  4.46e-03\n",
      "     8   28 -1.076e+03  1.47e-06  1.47e-06  9.6e-04  2.0e+00  2.8e-04  1.60e-03\n",
      "     9   30 -1.076e+03  2.98e-06  2.98e-06  1.9e-03  2.0e+00  5.7e-04  1.56e-03\n",
      "    10   32 -1.076e+03  6.06e-07  6.06e-07  3.8e-04  2.0e+00  1.1e-04  1.60e-03\n",
      "    11   34 -1.076e+03  1.22e-06  1.22e-06  7.6e-04  2.0e+00  2.3e-04  1.65e-03\n",
      "    12   36 -1.076e+03  2.47e-07  2.48e-07  1.5e-04  2.0e+00  4.5e-05  1.63e-03\n",
      "    13   38 -1.076e+03  4.96e-07  4.96e-07  3.1e-04  2.0e+00  9.1e-05  1.65e-03\n",
      "    14   40 -1.076e+03  9.95e-08  9.95e-08  6.1e-05  2.0e+00  1.8e-05  1.64e-03\n",
      "    15   43 -1.076e+03  7.96e-07  7.96e-07  4.9e-04  2.0e+00  1.4e-04  1.65e-03\n",
      "    16   46 -1.076e+03  1.60e-08  1.60e-08  9.8e-06  2.0e+00  2.9e-06  1.63e-03\n",
      "    17   48 -1.076e+03  3.25e-09  3.25e-09  2.0e-06  2.0e+00  5.8e-07  1.63e-03\n",
      "    18   50 -1.076e+03  6.45e-09  6.45e-09  3.9e-06  2.0e+00  1.2e-06  1.63e-03\n",
      "    19   52 -1.076e+03  1.33e-09  1.33e-09  7.8e-07  2.0e+00  2.3e-07  1.63e-03\n",
      "    20   54 -1.076e+03  2.62e-09  2.62e-09  1.6e-06  2.0e+00  4.6e-07  1.63e-03\n",
      "    21   57 -1.076e+03  9.19e-11  9.19e-11  2.1e-08  2.0e+00  9.3e-09  1.63e-03\n",
      "    22   59 -1.076e+03  4.37e-11  4.37e-11  5.3e-09  3.3e+00  1.9e-09  1.63e-03\n",
      "    23   61 -1.076e+03  7.29e-11  7.29e-11  2.2e-08  2.0e+00  7.7e-09  1.63e-03\n",
      "    24   63 -1.076e+03  4.25e-11  4.25e-11  4.5e-09  3.8e+00  1.5e-09  1.63e-03\n",
      "    25   64 -1.076e+03  4.71e-11  4.71e-11  7.4e-09  2.5e+00  3.1e-09  1.63e-03\n",
      "    26   66 -1.076e+03  1.32e-10  1.32e-10  4.7e-08  2.0e+00  1.5e-08  1.63e-03\n",
      "    27   68 -1.076e+03  1.06e-10  1.06e-10  9.6e-09  2.8e+00  3.0e-09  1.63e-03\n",
      "    28   69 -1.076e+03  7.05e-11  7.05e-11  1.3e-08  2.0e+00  6.0e-09  1.63e-03\n",
      "    29   71 -1.076e+03  2.41e-11  2.41e-11  2.9e-09  4.9e+00  1.2e-09  1.63e-03\n",
      "    30   73 -1.076e+03  9.47e-11  9.47e-11  2.9e-08  2.1e+00  9.6e-09  1.63e-03\n",
      "    31   75 -1.076e+03  5.59e-11  5.59e-11  5.8e-09  3.3e+00  1.9e-09  1.63e-03\n",
      "    32   77 -1.076e+03  8.34e-12  8.34e-12  9.4e-10  1.3e+01  3.8e-10  1.63e-03\n",
      "    33   79 -1.076e+03  1.59e-12  1.59e-12  2.0e-10  7.2e+01  7.7e-11  1.63e-03\n",
      "    34   81 -1.076e+03  3.12e-12  3.12e-12  4.1e-10  1.0e+01  1.5e-10  1.63e-03\n",
      "    35   83 -1.076e+03  6.15e-13  6.15e-13  8.5e-11  2.0e+02  3.1e-11  1.63e-03\n",
      "    36   85 -1.076e+03  1.22e-12  1.22e-12  1.7e-10  2.6e+01  6.2e-11  1.63e-03\n",
      "    37   87 -1.076e+03  2.43e-13  2.43e-13  3.4e-11  5.3e+02  1.2e-11  1.63e-03\n",
      "    38   89 -1.076e+03  4.88e-14  4.85e-14  6.9e-12  2.7e+03  2.5e-12  1.63e-03\n",
      "    39   91 -1.076e+03  8.87e-15  9.70e-15  1.4e-12  1.3e+04  4.9e-13  1.63e-03\n",
      "    40   94 -1.076e+03  4.23e-16  1.94e-16  2.8e-14  6.7e+05  9.9e-15  1.63e-03\n",
      "    41   96 -1.076e+03  4.23e-16  3.88e-16  5.5e-14  8.3e+04  2.0e-14  1.63e-03\n",
      "    42   98 -1.076e+03  1.90e-15  7.76e-16  1.1e-13  4.2e+04  3.9e-14  1.63e-03\n",
      "    43  100 -1.076e+03  0.00e+00  1.55e-16  2.2e-14  8.3e+05  7.9e-15  1.63e-03\n",
      "\n",
      " ***** FALSE CONVERGENCE *****\n",
      "\n",
      " FUNCTION    -1.076258e+03   RELDX        2.198e-14\n",
      " FUNC. EVALS     100         GRAD. EVALS      43\n",
      " PRELDF       1.551e-16      NPRELDF      1.634e-03\n",
      "\n",
      "     I      FINAL X(I)        D(I)          G(I)\n",
      "\n",
      "     1    9.779921e-05     1.000e+00     1.147e+01\n",
      "     2    1.470793e-01     1.000e+00    -1.740e+01\n",
      "     3    3.429467e-15     1.000e+00     3.761e+00\n",
      "\n"
     ]
    },
    {
     "data": {
      "text/html": [
       "0"
      ],
      "text/latex": [
       "0"
      ],
      "text/markdown": [
       "0"
      ],
      "text/plain": [
       "[1] 0"
      ]
     },
     "metadata": {},
     "output_type": "display_data"
    }
   ],
   "source": [
    "# 使用tseries中的 garch L来配选garch模型\n",
    "mm <- garch(r) #(p=1,q=1)\n",
    "rr <- mm$residuals\n",
    "tt <- Box.test(rr, lag = 24, type = 'Ljung-Box', fitdf = 9)\n",
    "tt$p.value #0.359"
   ]
  },
  {
   "cell_type": "markdown",
   "metadata": {},
   "source": [
    "补充检验Arch效应,结果很不显著，说明不具有Arch效应。\n",
    "\n",
    "检验了$r^2$是否满足L-B test以及 r是否具有arch效应。结果都不显著。说明L-B test的结果说明满足白噪声的假设的。另一个说明不具有arch效应。"
   ]
  },
  {
   "cell_type": "code",
   "execution_count": 98,
   "metadata": {
    "collapsed": false,
    "scrolled": true
   },
   "outputs": [
    {
     "data": {
      "text/plain": [
       "\n",
       "\tARCH LM-test; Null hypothesis: no ARCH effects\n",
       "\n",
       "data:  r\n",
       "Chi-squared = 4.0807, df = 12, p-value = 0.9819\n"
      ]
     },
     "metadata": {},
     "output_type": "display_data"
    },
    {
     "data": {
      "text/plain": [
       "\n",
       "\tBox-Ljung test\n",
       "\n",
       "data:  r^2\n",
       "X-squared = 4.4483, df = 17, p-value = 0.999\n"
      ]
     },
     "metadata": {},
     "output_type": "display_data"
    },
    {
     "data": {
      "text/plain": [
       "\n",
       "\tBox-Ljung test\n",
       "\n",
       "data:  r^2\n",
       "X-squared = 4.4483, df = 17, p-value = 0.999\n"
      ]
     },
     "metadata": {},
     "output_type": "display_data"
    }
   ],
   "source": [
    "ArchTest(r)\n",
    "Box.test(r^2, lag = 24, type = 'Ljung-Box', fitdf = 7)\n",
    "# t <- Box.test(r^2, lag = 24, type = 'Ljung-Box', fitdf = 7)\n",
    "# t\n",
    "# ts.plot(r, GR_num, col=rainbow(4))"
   ]
  },
  {
   "cell_type": "markdown",
   "metadata": {},
   "source": [
    "# 资产情况"
   ]
  },
  {
   "cell_type": "code",
   "execution_count": 106,
   "metadata": {
    "collapsed": true
   },
   "outputs": [],
   "source": [
    "ast = data[1] # ast represents asset\n",
    "ast = ts(ast, frequency = 12,start = c(1995,1)) # total net assets\n",
    "\n",
    "GR_ast = diff(log(ast)) # growth ratio of total net asset\n",
    "GR_ast = ts(GR_ast * 100, frequency = 12,start = c(1995,2), names = 'GR_ast')"
   ]
  },
  {
   "cell_type": "markdown",
   "metadata": {},
   "source": [
    "描述统计"
   ]
  },
  {
   "cell_type": "code",
   "execution_count": 107,
   "metadata": {
    "collapsed": false
   },
   "outputs": [
    {
     "name": "stdout",
     "output_type": "stream",
     "text": [
      "[1] \"Summary of Asset\"\n"
     ]
    },
    {
     "data": {
      "text/html": [
       "<table>\n",
       "<thead><tr><th scope=col>Start</th><th scope=col>Size</th><th scope=col>Mean</th><th scope=col>Standard.Deviation</th><th scope=col>Skewness</th><th scope=col>Excess.Kurtosis</th><th scope=col>Minimum</th><th scope=col>Maximum</th></tr></thead>\n",
       "<tbody>\n",
       "\t<tr><td>1995         </td><td>269          </td><td>1141262097   </td><td>204593918    </td><td>-3.755039e-07</td><td>-1.213351    </td><td>788918400    </td><td>1493596800   </td></tr>\n",
       "</tbody>\n",
       "</table>\n"
      ],
      "text/latex": [
       "\\begin{tabular}{r|llllllll}\n",
       " Start & Size & Mean & Standard.Deviation & Skewness & Excess.Kurtosis & Minimum & Maximum\\\\\n",
       "\\hline\n",
       "\t 1995          & 269           & 1141262097    & 204593918     & -3.755039e-07 & -1.213351     & 788918400     & 1493596800   \\\\\n",
       "\\end{tabular}\n"
      ],
      "text/markdown": [
       "\n",
       "Start | Size | Mean | Standard.Deviation | Skewness | Excess.Kurtosis | Minimum | Maximum | \n",
       "|---|\n",
       "| 1995          | 269           | 1141262097    | 204593918     | -3.755039e-07 | -1.213351     | 788918400     | 1493596800    | \n",
       "\n",
       "\n"
      ],
      "text/plain": [
       "  Start Size Mean       Standard.Deviation Skewness      Excess.Kurtosis\n",
       "1 1995  269  1141262097 204593918          -3.755039e-07 -1.213351      \n",
       "  Minimum   Maximum   \n",
       "1 788918400 1493596800"
      ]
     },
     "metadata": {},
     "output_type": "display_data"
    },
    {
     "name": "stdout",
     "output_type": "stream",
     "text": [
      "[1] \"Summary of Growth of Asset\"\n"
     ]
    },
    {
     "data": {
      "text/html": [
       "<table>\n",
       "<thead><tr><th scope=col>Start</th><th scope=col>Size</th><th scope=col>Mean</th><th scope=col>Standard.Deviation</th><th scope=col>Skewness</th><th scope=col>Excess.Kurtosis</th><th scope=col>Minimum</th><th scope=col>Maximum</th></tr></thead>\n",
       "<tbody>\n",
       "\t<tr><td>1995.083  </td><td>268       </td><td>0.238164  </td><td>0.04472909</td><td>0.4436969 </td><td>-0.9191963</td><td>0.1626772 </td><td>0.3389278 </td></tr>\n",
       "</tbody>\n",
       "</table>\n"
      ],
      "text/latex": [
       "\\begin{tabular}{r|llllllll}\n",
       " Start & Size & Mean & Standard.Deviation & Skewness & Excess.Kurtosis & Minimum & Maximum\\\\\n",
       "\\hline\n",
       "\t 1995.083   & 268        & 0.238164   & 0.04472909 & 0.4436969  & -0.9191963 & 0.1626772  & 0.3389278 \\\\\n",
       "\\end{tabular}\n"
      ],
      "text/markdown": [
       "\n",
       "Start | Size | Mean | Standard.Deviation | Skewness | Excess.Kurtosis | Minimum | Maximum | \n",
       "|---|\n",
       "| 1995.083   | 268        | 0.238164   | 0.04472909 | 0.4436969  | -0.9191963 | 0.1626772  | 0.3389278  | \n",
       "\n",
       "\n"
      ],
      "text/plain": [
       "  Start    Size Mean     Standard.Deviation Skewness  Excess.Kurtosis Minimum  \n",
       "1 1995.083 268  0.238164 0.04472909         0.4436969 -0.9191963      0.1626772\n",
       "  Maximum  \n",
       "1 0.3389278"
      ]
     },
     "metadata": {},
     "output_type": "display_data"
    },
    {
     "data": {
      "image/png": "[encoded data removed]",
      "text/plain": [
       "Plot with title \"Series  GR_ast\""
      ]
     },
     "metadata": {},
     "output_type": "display_data"
    }
   ],
   "source": [
    "print(\"Summary of Asset\")\n",
    "FinTS.stats(ast)\n",
    "print(\"Summary of Growth of Asset\")\n",
    "FinTS.stats(GR_ast)\n",
    "\n",
    "# 绘制时间趋势图像\n",
    "par(mfrow = c(3,2))\n",
    "plot(ast)\n",
    "plot(GR_ast)\n",
    "\n",
    "acf(ast)\n",
    "pacf(ast)\n",
    "\n",
    "acf(GR_ast) \n",
    "pacf(GR_ast)"
   ]
  },
  {
   "cell_type": "markdown",
   "metadata": {},
   "source": [
    "ADF检验，资产总量不平稳，增长率是平稳序列"
   ]
  },
  {
   "cell_type": "code",
   "execution_count": 108,
   "metadata": {
    "collapsed": false
   },
   "outputs": [
    {
     "name": "stderr",
     "output_type": "stream",
     "text": [
      "Warning message in adf.test(ast):\n",
      "\"p-value smaller than printed p-value\""
     ]
    },
    {
     "data": {
      "text/plain": [
       "\n",
       "\tAugmented Dickey-Fuller Test\n",
       "\n",
       "data:  ast\n",
       "Dickey-Fuller = -7.8101, Lag order = 6, p-value = 0.01\n",
       "alternative hypothesis: stationary\n"
      ]
     },
     "metadata": {},
     "output_type": "display_data"
    },
    {
     "data": {
      "text/plain": [
       "\n",
       "\tAugmented Dickey-Fuller Test\n",
       "\n",
       "data:  GR_ast\n",
       "Dickey-Fuller = -2.3928, Lag order = 6, p-value = 0.4105\n",
       "alternative hypothesis: stationary\n"
      ]
     },
     "metadata": {},
     "output_type": "display_data"
    }
   ],
   "source": [
    "adf.test(ast)\n",
    "adf.test(GR_ast)"
   ]
  },
  {
   "cell_type": "markdown",
   "metadata": {},
   "source": [
    "*这一步没看懂。。。*"
   ]
  },
  {
   "cell_type": "code",
   "execution_count": 14,
   "metadata": {
    "collapsed": true
   },
   "outputs": [
    {
     "data": {
      "image/png": "[encoded data removed]",
      "text/plain": [
       "plot without title"
      ]
     },
     "metadata": {},
     "output_type": "display_data"
    }
   ],
   "source": [
    "par(mfrow = c(1,1))\n",
    "periodogram(GR_ast)"
   ]
  },
  {
   "cell_type": "markdown",
   "metadata": {},
   "source": [
    "进行ARIMA建模。得到的残差进行白噪声检验，很显著。说明不为白噪声。"
   ]
  },
  {
   "cell_type": "code",
   "execution_count": 111,
   "metadata": {
    "collapsed": false
   },
   "outputs": [
    {
     "name": "stdout",
     "output_type": "stream",
     "text": [
      "Series: GR_ast \n",
      "ARIMA(1,0,0) with non-zero mean \n",
      "\n",
      "Coefficients:\n",
      "         ar1    mean\n",
      "      0.9763  0.2426\n",
      "s.e.  0.0142  0.0254\n",
      "\n",
      "sigma^2 estimated as 0.0001269:  log likelihood=821.49\n",
      "AIC=-1636.98   AICc=-1636.89   BIC=-1626.21\n"
     ]
    },
    {
     "data": {
      "text/html": [
       "0"
      ],
      "text/latex": [
       "0"
      ],
      "text/markdown": [
       "0"
      ],
      "text/plain": [
       "[1] 0"
      ]
     },
     "metadata": {},
     "output_type": "display_data"
    },
    {
     "data": {
      "text/html": [
       "0"
      ],
      "text/latex": [
       "0"
      ],
      "text/markdown": [
       "0"
      ],
      "text/plain": [
       "[1] 0"
      ]
     },
     "metadata": {},
     "output_type": "display_data"
    }
   ],
   "source": [
    "m = auto.arima(GR_ast, seasonal = FALSE, max.d = 0) #ARIMA(2,0,2)\n",
    "print(m)\n",
    "\n",
    "r = m$residuals\n",
    "t = Box.test(r, lag = 24, type = 'Ljung-Box', fitdf = 4)\n",
    "t$p.value #0.384\n",
    "\n",
    "t2 = Box.test(r^2, lag = 24, type = 'Ljung-Box', fitdf = 4)\n",
    "t2$p.value"
   ]
  },
  {
   "cell_type": "markdown",
   "metadata": {},
   "source": [
    "考虑季节性进行建模"
   ]
  },
  {
   "cell_type": "code",
   "execution_count": 113,
   "metadata": {
    "collapsed": false,
    "scrolled": true
   },
   "outputs": [
    {
     "name": "stdout",
     "output_type": "stream",
     "text": [
      "Series: GR_ast \n",
      "ARIMA(1,0,0)(0,0,1)[12] with non-zero mean \n",
      "\n",
      "Coefficients:\n",
      "         ar1    sma1    mean\n",
      "      0.9714  0.7207  0.2403\n",
      "s.e.  0.0152  0.0300  0.0236\n",
      "\n",
      "sigma^2 estimated as 5.396e-05:  log likelihood=931.85\n",
      "AIC=-1855.7   AICc=-1855.54   BIC=-1841.33\n"
     ]
    },
    {
     "data": {
      "text/html": [
       "0"
      ],
      "text/latex": [
       "0"
      ],
      "text/markdown": [
       "0"
      ],
      "text/plain": [
       "[1] 0"
      ]
     },
     "metadata": {},
     "output_type": "display_data"
    }
   ],
   "source": [
    "m2 = auto.arima(GR_ast, seasonal = TRUE, max.d = 0) #ARIMA(2,0,2)\n",
    "print(m2)\n",
    "\n",
    "r2 = m2$residuals\n",
    "t2 = Box.test(r2, lag = 24, type = 'Ljung-Box', fitdf = 4)\n",
    "t2$p.value #0.384"
   ]
  },
  {
   "cell_type": "markdown",
   "metadata": {},
   "source": [
    "检验Arch效应。结果都很显著，说明具有Arch 效应。"
   ]
  },
  {
   "cell_type": "code",
   "execution_count": 117,
   "metadata": {
    "collapsed": false
   },
   "outputs": [
    {
     "data": {
      "text/plain": [
       "\n",
       "\tARCH LM-test; Null hypothesis: no ARCH effects\n",
       "\n",
       "data:  r2\n",
       "Chi-squared = 101.6, df = 12, p-value = 2.22e-16\n"
      ]
     },
     "metadata": {},
     "output_type": "display_data"
    },
    {
     "data": {
      "text/plain": [
       "\n",
       "\tARCH LM-test; Null hypothesis: no ARCH effects\n",
       "\n",
       "data:  r\n",
       "Chi-squared = 199.5, df = 12, p-value < 2.2e-16\n"
      ]
     },
     "metadata": {},
     "output_type": "display_data"
    }
   ],
   "source": [
    "ArchTest(r2) # 考虑季节模型的残差\n",
    "ArchTest(r) # 不考虑季节模型的残差"
   ]
  },
  {
   "cell_type": "markdown",
   "metadata": {
    "collapsed": false
   },
   "source": [
    "进行Arch建模"
   ]
  },
  {
   "cell_type": "code",
   "execution_count": 148,
   "metadata": {
    "collapsed": false
   },
   "outputs": [
    {
     "name": "stdout",
     "output_type": "stream",
     "text": [
      "\n",
      "Series Initialization:\n",
      " ARMA Model:                arma\n",
      " Formula Mean:              ~ arma(1, 0)\n",
      " GARCH Model:               garch\n",
      " Formula Variance:          ~ garch(1, 1)\n",
      " ARMA Order:                1 0\n",
      " Max ARMA Order:            1\n",
      " GARCH Order:               1 1\n",
      " Max GARCH Order:           1\n",
      " Maximum Order:             1\n",
      " Conditional Dist:          norm\n",
      " h.start:                   2\n",
      " llh.start:                 1\n",
      " Length of Series:          1974\n",
      " Recursion Init:            mci\n",
      " Series Scale:              0.4702445\n",
      "\n",
      "Parameter Initialization:\n",
      " Initial Parameters:          $params\n",
      " Limits of Transformations:   $U, $V\n",
      " Which Parameters are Fixed?  $includes\n",
      " Parameter Matrix:\n",
      "                     U           V       params includes\n",
      "    mu     -0.34932441   0.3493244 -0.034925402     TRUE\n",
      "    ar1    -0.99999999   1.0000000  0.009368393     TRUE\n",
      "    omega   0.00000100 100.0000000  0.100000000     TRUE\n",
      "    alpha1  0.00000001   1.0000000  0.100000000     TRUE\n",
      "    gamma1 -0.99999999   1.0000000  0.100000000    FALSE\n",
      "    beta1   0.00000001   1.0000000  0.800000000     TRUE\n",
      "    delta   0.00000000   2.0000000  2.000000000    FALSE\n",
      "    skew    0.10000000  10.0000000  1.000000000    FALSE\n",
      "    shape   1.00000000  10.0000000  4.000000000    FALSE\n",
      " Index List of Parameters to be Optimized:\n",
      "    mu    ar1  omega alpha1  beta1 \n",
      "     1      2      3      4      6 \n",
      " Persistence:                  0.9 \n",
      "\n",
      "\n",
      "--- START OF TRACE ---\n",
      "Selected Algorithm: nlminb \n",
      "\n",
      "R coded nlminb Solver: \n",
      "\n",
      "  0:     2621.9837: -0.0349254 0.00936839 0.100000 0.100000 0.800000\n",
      "  1:     2614.2102: -0.0349237 0.0108598 0.0783840 0.102599 0.788457\n",
      "  2:     2604.1058: -0.0349211 0.0132082 0.0780191 0.125651 0.796969\n",
      "  3:     2600.5789: -0.0349174 0.0160476 0.0588266 0.133507 0.791837\n",
      "  4:     2596.1821: -0.0349076 0.0227876 0.0567814 0.150897 0.802439\n",
      "  5:     2595.5013: -0.0348773 0.0387324 0.0436196 0.156184 0.805321\n",
      "  6:     2594.8278: -0.0348228 0.0585660 0.0513339 0.156579 0.802318\n",
      "  7:     2594.7506: -0.0347261 0.0586152 0.0526232 0.157561 0.795535\n",
      "  8:     2594.6607: -0.0346151 0.0520409 0.0523234 0.159042 0.796373\n",
      "  9:     2594.6578: -0.0346074 0.0519463 0.0517543 0.159222 0.796759\n",
      " 10:     2594.6553: -0.0345914 0.0519642 0.0518665 0.159097 0.797329\n",
      " 11:     2594.6509: -0.0345727 0.0519527 0.0515736 0.158759 0.797607\n",
      " 12:     2594.6245: -0.0342744 0.0517512 0.0500044 0.155202 0.802637\n",
      " 13:     2594.6123: -0.0339040 0.0511727 0.0496529 0.155079 0.801925\n",
      " 14:     2594.5738: -0.0335329 0.0508950 0.0502243 0.155503 0.801819\n",
      " 15:     2594.3239: -0.0275965 0.0582728 0.0510834 0.163042 0.795303\n",
      " 16:     2594.0923: -0.0216569 0.0496020 0.0544563 0.164677 0.789427\n",
      " 17:     2593.9644: -0.0157261 0.0548722 0.0520152 0.155390 0.798847\n",
      " 18:     2593.9310: -0.0138757 0.0514039 0.0497905 0.156232 0.802862\n",
      " 19:     2593.9180: -0.0138757 0.0513984 0.0494027 0.156011 0.802539\n",
      " 20:     2593.9167: -0.0138594 0.0514411 0.0496107 0.156084 0.802350\n",
      " 21:     2593.9159: -0.0138222 0.0514490 0.0496835 0.156085 0.802075\n",
      " 22:     2593.9129: -0.0131986 0.0513613 0.0501896 0.157125 0.800679\n",
      " 23:     2593.9126: -0.0131523 0.0516676 0.0508159 0.157377 0.799694\n",
      " 24:     2593.9122: -0.0128733 0.0512725 0.0506040 0.157392 0.799954\n",
      " 25:     2593.9122: -0.0129849 0.0514024 0.0505929 0.157420 0.799948\n",
      " 26:     2593.9122: -0.0129667 0.0513779 0.0505997 0.157400 0.799954\n",
      " 27:     2593.9122: -0.0129658 0.0513779 0.0505997 0.157403 0.799952\n",
      "\n",
      "Final Estimate of the Negative LLH:\n",
      " LLH:  1104.524    norm LLH:  0.559536 \n",
      "          mu          ar1        omega       alpha1        beta1 \n",
      "-0.006097077  0.051377925  0.011189114  0.157402810  0.799952003 \n",
      "\n",
      "R-optimhess Difference Approximated Hessian Matrix:\n",
      "                 mu         ar1         omega       alpha1         beta1\n",
      "mu     -14208.09735    24.06558      433.4915     263.5163      54.02177\n",
      "ar1        24.06558 -1539.87045     -931.8755     -54.7337    -241.42442\n",
      "omega     433.49150  -931.87547 -1378063.9734 -111590.3997 -186490.08328\n",
      "alpha1    263.51629   -54.73370  -111590.3997  -16911.5472  -20775.77419\n",
      "beta1      54.02177  -241.42442  -186490.0833  -20775.7742  -30263.42638\n",
      "attr(,\"time\")\n",
      "Time difference of 0.04699707 secs\n",
      "\n",
      "--- END OF TRACE ---\n",
      "\n",
      "\n",
      "Time to Estimate Parameters:\n",
      " Time difference of 0.209018 secs\n"
     ]
    },
    {
     "ename": "ERROR",
     "evalue": "Error in m3garch$AIC: $ operator not defined for this S4 class\n",
     "output_type": "error",
     "traceback": [
      "Error in m3garch$AIC: $ operator not defined for this S4 class\nTraceback:\n"
     ]
    }
   ],
   "source": [
    "# m3garch <- garchFit(GR_ast, trace = FALSE)\n",
    "# m4garch <- garchFit(GR_ast, trace = FALSE)\n",
    "# m3garch <- garchSpec(GR_ast)\n",
    "# print(m3garch$Formula)  # garch(1,1)\n",
    "# m3garch <- garchFit(GR_ast ~ arma(1,0)+ garch(1,1))\n",
    "# garch <- garch(GR_ast, order=c(1,1))\n",
    "# summary(garch(GR_ast, order=c(1,1)))\n",
    "# plot(garch)\n",
    "m3garch <- garchFit(GR_ast ~ arma(1,0) + garch(1,1))\n",
    "m3garch$AIC\n",
    "# print(m3garch)"
   ]
  },
  {
   "cell_type": "code",
   "execution_count": 18,
   "metadata": {
    "collapsed": false
   },
   "outputs": [
    {
     "name": "stdout",
     "output_type": "stream",
     "text": [
      "[1] \"ArchTest of NUM\"\n"
     ]
    },
    {
     "data": {
      "text/plain": [
       "\n",
       "\tARCH LM-test; Null hypothesis: no ARCH effects\n",
       "\n",
       "data:  GR_num\n",
       "Chi-squared = 4.9698, df = 12, p-value = 0.959\n"
      ]
     },
     "metadata": {},
     "output_type": "display_data"
    },
    {
     "name": "stdout",
     "output_type": "stream",
     "text": [
      "[1] \"ArchTest of Asset\"\n"
     ]
    },
    {
     "data": {
      "text/plain": [
       "\n",
       "\tARCH LM-test; Null hypothesis: no ARCH effects\n",
       "\n",
       "data:  GR_ast\n",
       "Chi-squared = 255.57, df = 12, p-value < 2.2e-16\n"
      ]
     },
     "metadata": {},
     "output_type": "display_data"
    }
   ],
   "source": [
    "print(\"ArchTest of NUM\")\n",
    "ArchTest(GR_num)\n",
    "print(\"ArchTest of Asset\")\n",
    "ArchTest(GR_ast)"
   ]
  },
  {
   "cell_type": "markdown",
   "metadata": {},
   "source": [
    "# 协整分析"
   ]
  },
  {
   "cell_type": "code",
   "execution_count": null,
   "metadata": {
    "collapsed": false
   },
   "outputs": [],
   "source": [
    "# read the data\n",
    "data2 <- read_excel(\"API.xlsx\", sheet = \"RR\", col_types = c(\"skip\", \"skip\", \"skip\", \"skip\", \"numeric\", \"numeric\", \"skip\"))\n",
    "d1 = ts(data2[1], frequency = 4,start = c(2007,1),names = 'retire')\n",
    "d2 = ts(data2[2], frequency = 4,start = c(2007,1),names = 'fof')\n",
    "\n",
    "retire = ts(d1[13:40], frequency = 4,start = c(2010,1),names = 'retire')\n",
    "fof = ts(d2[13:40], frequency = 4,start = c(2010,1),names = 'fof')"
   ]
  },
  {
   "cell_type": "markdown",
   "metadata": {},
   "source": [
    "直接查看是否具有协整关系。因为量级差别有点大，所以考虑fof的数量乘以10"
   ]
  },
  {
   "cell_type": "code",
   "execution_count": null,
   "metadata": {
    "collapsed": false
   },
   "outputs": [],
   "source": [
    "ts.plot(retire, 10*fof, gpars= list(col=rainbow(3)))"
   ]
  },
  {
   "cell_type": "markdown",
   "metadata": {},
   "source": [
    "增长率的协整作图，从2007年开始算起。从图像上看，协整关系十分好。"
   ]
  },
  {
   "cell_type": "code",
   "execution_count": null,
   "metadata": {
    "collapsed": false
   },
   "outputs": [],
   "source": [
    "GR_retire = diff(log(d1))\n",
    "GR_retire = ts(GR_retire,frequency = 4,start = c(2007,1),names = 'retire' )\n",
    "\n",
    "GR_fof = diff(log(d2))\n",
    "GR_fof = ts(GR_fof,frequency = 4,start = c(2007,1),names = 'fof' )\n",
    "ts.plot(GR_retire, GR_fof, gpars= list(col=rainbow(3)))"
   ]
  },
  {
   "cell_type": "markdown",
   "metadata": {},
   "source": [
    "增长率的协整作图，从2010年开始算起"
   ]
  },
  {
   "cell_type": "code",
   "execution_count": null,
   "metadata": {
    "collapsed": false
   },
   "outputs": [],
   "source": [
    "GR_retire2 = diff(log(retire))\n",
    "GR_retire2 = ts(GR_retire2,frequency = 4,start = c(2010,1),names = 'retire' )\n",
    "\n",
    "GR_fof2 = diff(log(fof))\n",
    "GR_fof2 = ts(GR_fof2,frequency = 4,start = c(2010,1),names = 'fof' )\n",
    "ts.plot(GR_retire2, GR_fof2, gpars= list(col=rainbow(3)))"
   ]
  },
  {
   "cell_type": "markdown",
   "metadata": {},
   "source": [
    "进行ADF检验"
   ]
  },
  {
   "cell_type": "code",
   "execution_count": null,
   "metadata": {
    "collapsed": false,
    "scrolled": true
   },
   "outputs": [],
   "source": [
    "adf.test(retire, alternative = 'explosive')\n",
    "adf.test(fof, alternative = 'explosive')\n",
    "adf.test(diff(retire), alternative = 'explosive')\n",
    "adf.test(diff(fof), alternative = 'explosive')"
   ]
  },
  {
   "cell_type": "markdown",
   "metadata": {},
   "source": [
    "协整关系分析"
   ]
  },
  {
   "cell_type": "code",
   "execution_count": null,
   "metadata": {
    "collapsed": false
   },
   "outputs": [],
   "source": [
    "m = lm(fof ~ retire)\n",
    "resid = m$residuals\n",
    "par(mfrow=c(1,1))\n",
    "plot(resid, xlab = 'time (seasonal)')\n",
    "t = adf.test(resid, alternative = 'explosive')\n",
    "print(summary(m))\n",
    "print(t)"
   ]
  }
 ],
 "metadata": {
  "kernelspec": {
   "display_name": "R 3.4",
   "language": "R",
   "name": "ir3r"
  },
  "language_info": {
   "codemirror_mode": "r",
   "file_extension": ".r",
   "mimetype": "text/x-r-source",
   "name": "R",
   "pygments_lexer": "r",
   "version": "3.4.0"
  }
 },
 "nbformat": 4,
 "nbformat_minor": 2
}
